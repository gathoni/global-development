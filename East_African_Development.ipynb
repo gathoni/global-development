{
  "nbformat": 4,
  "nbformat_minor": 0,
  "metadata": {
    "colab": {
      "name": "East African Development",
      "provenance": [],
      "collapsed_sections": [],
      "include_colab_link": true
    },
    "kernelspec": {
      "name": "python3",
      "display_name": "Python 3"
    }
  },
  "cells": [
    {
      "cell_type": "markdown",
      "metadata": {
        "id": "view-in-github",
        "colab_type": "text"
      },
      "source": [
        "<a href=\"https://colab.research.google.com/github/gathoni/global-development/blob/master/East_African_Development.ipynb\" target=\"_parent\"><img src=\"https://colab.research.google.com/assets/colab-badge.svg\" alt=\"Open In Colab\"/></a>"
      ]
    },
    {
      "cell_type": "code",
      "metadata": {
        "id": "qd7tMTcEh2VK",
        "colab_type": "code",
        "colab": {}
      },
      "source": [
        "#import libraries\n",
        "import pandas as pd\n",
        "import os\n",
        "import matplotlib.pyplot as plt\n",
        "from plotnine import *"
      ],
      "execution_count": 0,
      "outputs": []
    },
    {
      "cell_type": "code",
      "metadata": {
        "id": "LuvQ05Dgh-9i",
        "colab_type": "code",
        "outputId": "955b09cf-565b-4355-8806-c01a183be655",
        "colab": {
          "base_uri": "https://localhost:8080/",
          "height": 275
        }
      },
      "source": [
        "# upload CSV file\n",
        "globalDev = pd.read_csv('global_development.csv')\n",
        "globalDev.head()"
      ],
      "execution_count": 55,
      "outputs": [
        {
          "output_type": "execute_result",
          "data": {
            "text/html": [
              "<div>\n",
              "<style scoped>\n",
              "    .dataframe tbody tr th:only-of-type {\n",
              "        vertical-align: middle;\n",
              "    }\n",
              "\n",
              "    .dataframe tbody tr th {\n",
              "        vertical-align: top;\n",
              "    }\n",
              "\n",
              "    .dataframe thead th {\n",
              "        text-align: right;\n",
              "    }\n",
              "</style>\n",
              "<table border=\"1\" class=\"dataframe\">\n",
              "  <thead>\n",
              "    <tr style=\"text-align: right;\">\n",
              "      <th></th>\n",
              "      <th>Country</th>\n",
              "      <th>Year</th>\n",
              "      <th>Data.Health.Birth Rate</th>\n",
              "      <th>Data.Health.Death Rate</th>\n",
              "      <th>Data.Health.Fertility Rate</th>\n",
              "      <th>Data.Health.Life Expectancy at Birth, Female</th>\n",
              "      <th>Data.Health.Life Expectancy at Birth, Male</th>\n",
              "      <th>Data.Health.Life Expectancy at Birth, Total</th>\n",
              "      <th>Data.Health.Population Growth</th>\n",
              "      <th>Data.Health.Total Population</th>\n",
              "      <th>Data.Infrastructure.Mobile Cellular Subscriptions</th>\n",
              "      <th>Data.Infrastructure.Mobile Cellular Subscriptions per 100 People</th>\n",
              "      <th>Data.Infrastructure.Telephone Lines</th>\n",
              "      <th>Data.Infrastructure.Telephone Lines per 100 People</th>\n",
              "      <th>Data.Rural Development.Agricultural Land</th>\n",
              "      <th>Data.Rural Development.Agricultural Land Percent</th>\n",
              "      <th>Data.Rural Development.Arable Land</th>\n",
              "      <th>Data.Rural Development.Arable Land Percent</th>\n",
              "      <th>Data.Rural Development.Land Area</th>\n",
              "      <th>Data.Rural Development.Rural Population</th>\n",
              "      <th>Data.Rural Development.Rural Population Growth</th>\n",
              "      <th>Data.Rural Development.Surface Area</th>\n",
              "      <th>Data.Urban Development.Population Density</th>\n",
              "      <th>Data.Urban Development.Urban Population Percent</th>\n",
              "      <th>Data.Urban Development.Urban Population Percent Growth</th>\n",
              "    </tr>\n",
              "  </thead>\n",
              "  <tbody>\n",
              "    <tr>\n",
              "      <th>0</th>\n",
              "      <td>Canada</td>\n",
              "      <td>1980</td>\n",
              "      <td>15.4</td>\n",
              "      <td>7.0</td>\n",
              "      <td>1.754</td>\n",
              "      <td>78.59</td>\n",
              "      <td>71.32</td>\n",
              "      <td>74.866341</td>\n",
              "      <td>0.997669</td>\n",
              "      <td>24277000.0</td>\n",
              "      <td>0.0</td>\n",
              "      <td>0.0</td>\n",
              "      <td>9595000.0</td>\n",
              "      <td>39.562351</td>\n",
              "      <td>669030.0</td>\n",
              "      <td>7.357225</td>\n",
              "      <td>1.827821</td>\n",
              "      <td>4.879744</td>\n",
              "      <td>9093510.0</td>\n",
              "      <td>5918004</td>\n",
              "      <td>0.833712</td>\n",
              "      <td>9984670.0</td>\n",
              "      <td>2.669706</td>\n",
              "      <td>75.623</td>\n",
              "      <td>1.050578</td>\n",
              "    </tr>\n",
              "    <tr>\n",
              "      <th>1</th>\n",
              "      <td>Canada</td>\n",
              "      <td>1981</td>\n",
              "      <td>15.4</td>\n",
              "      <td>7.1</td>\n",
              "      <td>1.740</td>\n",
              "      <td>78.73</td>\n",
              "      <td>71.60</td>\n",
              "      <td>75.078049</td>\n",
              "      <td>1.293245</td>\n",
              "      <td>24593000.0</td>\n",
              "      <td>0.0</td>\n",
              "      <td>0.0</td>\n",
              "      <td>9979000.0</td>\n",
              "      <td>40.712240</td>\n",
              "      <td>663960.0</td>\n",
              "      <td>7.301471</td>\n",
              "      <td>1.818526</td>\n",
              "      <td>4.918123</td>\n",
              "      <td>9093510.0</td>\n",
              "      <td>5985198</td>\n",
              "      <td>1.129019</td>\n",
              "      <td>9984670.0</td>\n",
              "      <td>2.704456</td>\n",
              "      <td>75.663</td>\n",
              "      <td>1.346126</td>\n",
              "    </tr>\n",
              "    <tr>\n",
              "      <th>2</th>\n",
              "      <td>Canada</td>\n",
              "      <td>1982</td>\n",
              "      <td>15.3</td>\n",
              "      <td>7.0</td>\n",
              "      <td>1.700</td>\n",
              "      <td>79.11</td>\n",
              "      <td>72.02</td>\n",
              "      <td>75.478537</td>\n",
              "      <td>1.240595</td>\n",
              "      <td>24900000.0</td>\n",
              "      <td>0.0</td>\n",
              "      <td>0.0</td>\n",
              "      <td>10294500.0</td>\n",
              "      <td>41.570761</td>\n",
              "      <td>658890.0</td>\n",
              "      <td>7.245717</td>\n",
              "      <td>1.810120</td>\n",
              "      <td>4.956502</td>\n",
              "      <td>9093510.0</td>\n",
              "      <td>6047712</td>\n",
              "      <td>1.039060</td>\n",
              "      <td>9984670.0</td>\n",
              "      <td>2.738217</td>\n",
              "      <td>75.712</td>\n",
              "      <td>1.305333</td>\n",
              "    </tr>\n",
              "    <tr>\n",
              "      <th>3</th>\n",
              "      <td>Canada</td>\n",
              "      <td>1983</td>\n",
              "      <td>15.1</td>\n",
              "      <td>7.1</td>\n",
              "      <td>1.690</td>\n",
              "      <td>79.23</td>\n",
              "      <td>72.30</td>\n",
              "      <td>75.680488</td>\n",
              "      <td>1.205555</td>\n",
              "      <td>25202000.0</td>\n",
              "      <td>0.0</td>\n",
              "      <td>0.0</td>\n",
              "      <td>10335442.0</td>\n",
              "      <td>41.320642</td>\n",
              "      <td>662760.0</td>\n",
              "      <td>7.288275</td>\n",
              "      <td>1.789779</td>\n",
              "      <td>4.960241</td>\n",
              "      <td>9093510.0</td>\n",
              "      <td>6080235</td>\n",
              "      <td>0.536333</td>\n",
              "      <td>9984670.0</td>\n",
              "      <td>2.771427</td>\n",
              "      <td>75.874</td>\n",
              "      <td>1.419293</td>\n",
              "    </tr>\n",
              "    <tr>\n",
              "      <th>4</th>\n",
              "      <td>Canada</td>\n",
              "      <td>1984</td>\n",
              "      <td>15.0</td>\n",
              "      <td>7.0</td>\n",
              "      <td>1.680</td>\n",
              "      <td>79.55</td>\n",
              "      <td>72.69</td>\n",
              "      <td>76.036341</td>\n",
              "      <td>1.002812</td>\n",
              "      <td>25456000.0</td>\n",
              "      <td>0.0</td>\n",
              "      <td>0.0</td>\n",
              "      <td>10468344.0</td>\n",
              "      <td>41.429346</td>\n",
              "      <td>666640.0</td>\n",
              "      <td>7.330943</td>\n",
              "      <td>1.773217</td>\n",
              "      <td>4.963870</td>\n",
              "      <td>9093510.0</td>\n",
              "      <td>6100530</td>\n",
              "      <td>0.333231</td>\n",
              "      <td>9984670.0</td>\n",
              "      <td>2.799359</td>\n",
              "      <td>76.035</td>\n",
              "      <td>1.214785</td>\n",
              "    </tr>\n",
              "  </tbody>\n",
              "</table>\n",
              "</div>"
            ],
            "text/plain": [
              "  Country  ...  Data.Urban Development.Urban Population Percent Growth\n",
              "0  Canada  ...                                           1.050578     \n",
              "1  Canada  ...                                           1.346126     \n",
              "2  Canada  ...                                           1.305333     \n",
              "3  Canada  ...                                           1.419293     \n",
              "4  Canada  ...                                           1.214785     \n",
              "\n",
              "[5 rows x 25 columns]"
            ]
          },
          "metadata": {
            "tags": []
          },
          "execution_count": 55
        }
      ]
    },
    {
      "cell_type": "code",
      "metadata": {
        "id": "O14ZQxPPuXPJ",
        "colab_type": "code",
        "outputId": "96ff6388-3499-46c5-beb7-4ee91a2b61cf",
        "colab": {
          "base_uri": "https://localhost:8080/",
          "height": 459
        }
      },
      "source": [
        "# check for missing data\n",
        "globalDev.isna().sum()"
      ],
      "execution_count": 56,
      "outputs": [
        {
          "output_type": "execute_result",
          "data": {
            "text/plain": [
              "Country                                                             0\n",
              "Year                                                                0\n",
              "Data.Health.Birth Rate                                              0\n",
              "Data.Health.Death Rate                                              0\n",
              "Data.Health.Fertility Rate                                          0\n",
              "Data.Health.Life Expectancy at Birth, Female                        0\n",
              "Data.Health.Life Expectancy at Birth, Male                          0\n",
              "Data.Health.Life Expectancy at Birth, Total                         0\n",
              "Data.Health.Population Growth                                       0\n",
              "Data.Health.Total Population                                        0\n",
              "Data.Infrastructure.Mobile Cellular Subscriptions                   0\n",
              "Data.Infrastructure.Mobile Cellular Subscriptions per 100 People    0\n",
              "Data.Infrastructure.Telephone Lines                                 0\n",
              "Data.Infrastructure.Telephone Lines per 100 People                  0\n",
              "Data.Rural Development.Agricultural Land                            0\n",
              "Data.Rural Development.Agricultural Land Percent                    0\n",
              "Data.Rural Development.Arable Land                                  0\n",
              "Data.Rural Development.Arable Land Percent                          0\n",
              "Data.Rural Development.Land Area                                    0\n",
              "Data.Rural Development.Rural Population                             0\n",
              "Data.Rural Development.Rural Population Growth                      0\n",
              "Data.Rural Development.Surface Area                                 0\n",
              "Data.Urban Development.Population Density                           0\n",
              "Data.Urban Development.Urban Population Percent                     0\n",
              "Data.Urban Development.Urban Population Percent Growth              0\n",
              "dtype: int64"
            ]
          },
          "metadata": {
            "tags": []
          },
          "execution_count": 56
        }
      ]
    },
    {
      "cell_type": "code",
      "metadata": {
        "id": "a5VnH-qp24Co",
        "colab_type": "code",
        "colab": {}
      },
      "source": [
        "# East African Countries\n",
        "east_africa = ['Uganda','Tanzania','Kenya','Rwanda']\n",
        "globalEA = globalDev[globalDev.Country.isin(east_africa)]\n"
      ],
      "execution_count": 0,
      "outputs": []
    },
    {
      "cell_type": "code",
      "metadata": {
        "id": "BBPFVZbQ3IHg",
        "colab_type": "code",
        "colab": {
          "base_uri": "https://localhost:8080/",
          "height": 34
        },
        "outputId": "449d00b7-7398-41c9-c5e5-1b29a918082d"
      },
      "source": [
        "globalEA['Country'].unique()"
      ],
      "execution_count": 58,
      "outputs": [
        {
          "output_type": "execute_result",
          "data": {
            "text/plain": [
              "array(['Tanzania', 'Rwanda', 'Kenya', 'Uganda'], dtype=object)"
            ]
          },
          "metadata": {
            "tags": []
          },
          "execution_count": 58
        }
      ]
    },
    {
      "cell_type": "code",
      "metadata": {
        "id": "ZQoGr2Hxor21",
        "colab_type": "code",
        "colab": {}
      },
      "source": [
        "# export to CSV\n",
        "globalEA.to_csv('globalEA.csv', index=False)"
      ],
      "execution_count": 0,
      "outputs": []
    },
    {
      "cell_type": "code",
      "metadata": {
        "id": "mirvCmlurMUc",
        "colab_type": "code",
        "outputId": "f66ea9af-877a-422f-fdc1-2b966b412490",
        "colab": {
          "base_uri": "https://localhost:8080/",
          "height": 459
        }
      },
      "source": [
        "# check for missing data\n",
        "globalEA.isna().sum()"
      ],
      "execution_count": 60,
      "outputs": [
        {
          "output_type": "execute_result",
          "data": {
            "text/plain": [
              "Country                                                             0\n",
              "Year                                                                0\n",
              "Data.Health.Birth Rate                                              0\n",
              "Data.Health.Death Rate                                              0\n",
              "Data.Health.Fertility Rate                                          0\n",
              "Data.Health.Life Expectancy at Birth, Female                        0\n",
              "Data.Health.Life Expectancy at Birth, Male                          0\n",
              "Data.Health.Life Expectancy at Birth, Total                         0\n",
              "Data.Health.Population Growth                                       0\n",
              "Data.Health.Total Population                                        0\n",
              "Data.Infrastructure.Mobile Cellular Subscriptions                   0\n",
              "Data.Infrastructure.Mobile Cellular Subscriptions per 100 People    0\n",
              "Data.Infrastructure.Telephone Lines                                 0\n",
              "Data.Infrastructure.Telephone Lines per 100 People                  0\n",
              "Data.Rural Development.Agricultural Land                            0\n",
              "Data.Rural Development.Agricultural Land Percent                    0\n",
              "Data.Rural Development.Arable Land                                  0\n",
              "Data.Rural Development.Arable Land Percent                          0\n",
              "Data.Rural Development.Land Area                                    0\n",
              "Data.Rural Development.Rural Population                             0\n",
              "Data.Rural Development.Rural Population Growth                      0\n",
              "Data.Rural Development.Surface Area                                 0\n",
              "Data.Urban Development.Population Density                           0\n",
              "Data.Urban Development.Urban Population Percent                     0\n",
              "Data.Urban Development.Urban Population Percent Growth              0\n",
              "dtype: int64"
            ]
          },
          "metadata": {
            "tags": []
          },
          "execution_count": 60
        }
      ]
    },
    {
      "cell_type": "code",
      "metadata": {
        "id": "02z45sXlFlf3",
        "colab_type": "code",
        "outputId": "ee74d45b-ac8d-4659-9058-c4f045886f6a",
        "colab": {
          "base_uri": "https://localhost:8080/",
          "height": 459
        }
      },
      "source": [
        "# Validating the data types \n",
        "globalEA.dtypes"
      ],
      "execution_count": 51,
      "outputs": [
        {
          "output_type": "execute_result",
          "data": {
            "text/plain": [
              "Country                                                              object\n",
              "Year                                                                  int64\n",
              "Data.Health.Birth Rate                                              float64\n",
              "Data.Health.Death Rate                                              float64\n",
              "Data.Health.Fertility Rate                                          float64\n",
              "Data.Health.Life Expectancy at Birth, Female                        float64\n",
              "Data.Health.Life Expectancy at Birth, Male                          float64\n",
              "Data.Health.Life Expectancy at Birth, Total                         float64\n",
              "Data.Health.Population Growth                                       float64\n",
              "Data.Health.Total Population                                        float64\n",
              "Data.Infrastructure.Mobile Cellular Subscriptions                   float64\n",
              "Data.Infrastructure.Mobile Cellular Subscriptions per 100 People    float64\n",
              "Data.Infrastructure.Telephone Lines                                 float64\n",
              "Data.Infrastructure.Telephone Lines per 100 People                  float64\n",
              "Data.Rural Development.Agricultural Land                            float64\n",
              "Data.Rural Development.Agricultural Land Percent                    float64\n",
              "Data.Rural Development.Arable Land                                  float64\n",
              "Data.Rural Development.Arable Land Percent                          float64\n",
              "Data.Rural Development.Land Area                                    float64\n",
              "Data.Rural Development.Rural Population                               int64\n",
              "Data.Rural Development.Rural Population Growth                      float64\n",
              "Data.Rural Development.Surface Area                                 float64\n",
              "Data.Urban Development.Population Density                           float64\n",
              "Data.Urban Development.Urban Population Percent                     float64\n",
              "Data.Urban Development.Urban Population Percent Growth              float64\n",
              "dtype: object"
            ]
          },
          "metadata": {
            "tags": []
          },
          "execution_count": 51
        }
      ]
    },
    {
      "cell_type": "code",
      "metadata": {
        "id": "1gd8xkPdGYz9",
        "colab_type": "code",
        "colab": {}
      },
      "source": [
        "# Changing the Data Rural Development Population to float\n",
        "globalEA['Data.Rural Development.Rural Population'] = globalEA['Data.Rural Development.Rural Population'].astype(float)"
      ],
      "execution_count": 0,
      "outputs": []
    },
    {
      "cell_type": "code",
      "metadata": {
        "id": "Tqvb60V5GhrZ",
        "colab_type": "code",
        "outputId": "7f178b66-9d81-4e0b-d7ff-3f4ac15315ed",
        "colab": {
          "base_uri": "https://localhost:8080/",
          "height": 459
        }
      },
      "source": [
        "globalEA.dtypes"
      ],
      "execution_count": 14,
      "outputs": [
        {
          "output_type": "execute_result",
          "data": {
            "text/plain": [
              "Country                                                                     object\n",
              "Year                                                                datetime64[ns]\n",
              "Data.Health.Birth Rate                                                     float64\n",
              "Data.Health.Death Rate                                                     float64\n",
              "Data.Health.Fertility Rate                                                 float64\n",
              "Data.Health.Life Expectancy at Birth, Female                               float64\n",
              "Data.Health.Life Expectancy at Birth, Male                                 float64\n",
              "Data.Health.Life Expectancy at Birth, Total                                float64\n",
              "Data.Health.Population Growth                                              float64\n",
              "Data.Health.Total Population                                               float64\n",
              "Data.Infrastructure.Mobile Cellular Subscriptions                          float64\n",
              "Data.Infrastructure.Mobile Cellular Subscriptions per 100 People           float64\n",
              "Data.Infrastructure.Telephone Lines                                        float64\n",
              "Data.Infrastructure.Telephone Lines per 100 People                         float64\n",
              "Data.Rural Development.Agricultural Land                                   float64\n",
              "Data.Rural Development.Agricultural Land Percent                           float64\n",
              "Data.Rural Development.Arable Land                                         float64\n",
              "Data.Rural Development.Arable Land Percent                                 float64\n",
              "Data.Rural Development.Land Area                                           float64\n",
              "Data.Rural Development.Rural Population                                    float64\n",
              "Data.Rural Development.Rural Population Growth                             float64\n",
              "Data.Rural Development.Surface Area                                        float64\n",
              "Data.Urban Development.Population Density                                  float64\n",
              "Data.Urban Development.Urban Population Percent                            float64\n",
              "Data.Urban Development.Urban Population Percent Growth                     float64\n",
              "dtype: object"
            ]
          },
          "metadata": {
            "tags": []
          },
          "execution_count": 14
        }
      ]
    },
    {
      "cell_type": "code",
      "metadata": {
        "id": "mOUkwTQC0qLN",
        "colab_type": "code",
        "outputId": "9598116e-fa45-487b-de1f-ee190a18d6c4",
        "colab": {
          "base_uri": "https://localhost:8080/",
          "height": 575
        }
      },
      "source": [
        "# Dropping columns\n",
        "globalEA.drop(['Data.Infrastructure.Telephone Lines','Data.Infrastructure.Telephone Lines per 100 People','Data.Rural Development.Arable Land','Data.Rural Development.Arable Land Percent'], axis= 1,inplace=True)\n",
        "globalEA"
      ],
      "execution_count": 61,
      "outputs": [
        {
          "output_type": "stream",
          "text": [
            "/usr/local/lib/python3.6/dist-packages/pandas/core/frame.py:4117: SettingWithCopyWarning: \n",
            "A value is trying to be set on a copy of a slice from a DataFrame\n",
            "\n",
            "See the caveats in the documentation: http://pandas.pydata.org/pandas-docs/stable/user_guide/indexing.html#returning-a-view-versus-a-copy\n",
            "  errors=errors,\n"
          ],
          "name": "stderr"
        },
        {
          "output_type": "execute_result",
          "data": {
            "text/html": [
              "<div>\n",
              "<style scoped>\n",
              "    .dataframe tbody tr th:only-of-type {\n",
              "        vertical-align: middle;\n",
              "    }\n",
              "\n",
              "    .dataframe tbody tr th {\n",
              "        vertical-align: top;\n",
              "    }\n",
              "\n",
              "    .dataframe thead th {\n",
              "        text-align: right;\n",
              "    }\n",
              "</style>\n",
              "<table border=\"1\" class=\"dataframe\">\n",
              "  <thead>\n",
              "    <tr style=\"text-align: right;\">\n",
              "      <th></th>\n",
              "      <th>Country</th>\n",
              "      <th>Year</th>\n",
              "      <th>Data.Health.Birth Rate</th>\n",
              "      <th>Data.Health.Death Rate</th>\n",
              "      <th>Data.Health.Fertility Rate</th>\n",
              "      <th>Data.Health.Life Expectancy at Birth, Female</th>\n",
              "      <th>Data.Health.Life Expectancy at Birth, Male</th>\n",
              "      <th>Data.Health.Life Expectancy at Birth, Total</th>\n",
              "      <th>Data.Health.Population Growth</th>\n",
              "      <th>Data.Health.Total Population</th>\n",
              "      <th>Data.Infrastructure.Mobile Cellular Subscriptions</th>\n",
              "      <th>Data.Infrastructure.Mobile Cellular Subscriptions per 100 People</th>\n",
              "      <th>Data.Rural Development.Agricultural Land</th>\n",
              "      <th>Data.Rural Development.Agricultural Land Percent</th>\n",
              "      <th>Data.Rural Development.Land Area</th>\n",
              "      <th>Data.Rural Development.Rural Population</th>\n",
              "      <th>Data.Rural Development.Rural Population Growth</th>\n",
              "      <th>Data.Rural Development.Surface Area</th>\n",
              "      <th>Data.Urban Development.Population Density</th>\n",
              "      <th>Data.Urban Development.Urban Population Percent</th>\n",
              "      <th>Data.Urban Development.Urban Population Percent Growth</th>\n",
              "    </tr>\n",
              "  </thead>\n",
              "  <tbody>\n",
              "    <tr>\n",
              "      <th>952</th>\n",
              "      <td>Tanzania</td>\n",
              "      <td>1980</td>\n",
              "      <td>46.995</td>\n",
              "      <td>15.596</td>\n",
              "      <td>6.685</td>\n",
              "      <td>51.987</td>\n",
              "      <td>48.647</td>\n",
              "      <td>50.276268</td>\n",
              "      <td>3.116857</td>\n",
              "      <td>18111999.0</td>\n",
              "      <td>0.0</td>\n",
              "      <td>0.000000</td>\n",
              "      <td>330000.0</td>\n",
              "      <td>37.254459</td>\n",
              "      <td>885800.0</td>\n",
              "      <td>15550781</td>\n",
              "      <td>2.557041</td>\n",
              "      <td>947300.0</td>\n",
              "      <td>20.447052</td>\n",
              "      <td>14.141</td>\n",
              "      <td>6.584829</td>\n",
              "    </tr>\n",
              "    <tr>\n",
              "      <th>953</th>\n",
              "      <td>Tanzania</td>\n",
              "      <td>1981</td>\n",
              "      <td>46.739</td>\n",
              "      <td>15.425</td>\n",
              "      <td>6.653</td>\n",
              "      <td>52.191</td>\n",
              "      <td>48.876</td>\n",
              "      <td>50.493073</td>\n",
              "      <td>3.124317</td>\n",
              "      <td>18686808.0</td>\n",
              "      <td>0.0</td>\n",
              "      <td>0.000000</td>\n",
              "      <td>330000.0</td>\n",
              "      <td>37.254459</td>\n",
              "      <td>885800.0</td>\n",
              "      <td>15966943</td>\n",
              "      <td>2.640966</td>\n",
              "      <td>947300.0</td>\n",
              "      <td>21.095967</td>\n",
              "      <td>14.555</td>\n",
              "      <td>6.009932</td>\n",
              "    </tr>\n",
              "    <tr>\n",
              "      <th>954</th>\n",
              "      <td>Tanzania</td>\n",
              "      <td>1982</td>\n",
              "      <td>46.469</td>\n",
              "      <td>15.279</td>\n",
              "      <td>6.618</td>\n",
              "      <td>52.359</td>\n",
              "      <td>49.065</td>\n",
              "      <td>50.671829</td>\n",
              "      <td>3.136535</td>\n",
              "      <td>19282215.0</td>\n",
              "      <td>0.0</td>\n",
              "      <td>0.000000</td>\n",
              "      <td>330000.0</td>\n",
              "      <td>37.254459</td>\n",
              "      <td>885800.0</td>\n",
              "      <td>16394510</td>\n",
              "      <td>2.642600</td>\n",
              "      <td>947300.0</td>\n",
              "      <td>21.768136</td>\n",
              "      <td>14.976</td>\n",
              "      <td>5.987982</td>\n",
              "    </tr>\n",
              "    <tr>\n",
              "      <th>955</th>\n",
              "      <td>Tanzania</td>\n",
              "      <td>1983</td>\n",
              "      <td>46.199</td>\n",
              "      <td>15.149</td>\n",
              "      <td>6.580</td>\n",
              "      <td>52.508</td>\n",
              "      <td>49.227</td>\n",
              "      <td>50.827488</td>\n",
              "      <td>3.143771</td>\n",
              "      <td>19898033.0</td>\n",
              "      <td>0.0</td>\n",
              "      <td>0.000000</td>\n",
              "      <td>330000.0</td>\n",
              "      <td>37.254459</td>\n",
              "      <td>885800.0</td>\n",
              "      <td>16831945</td>\n",
              "      <td>2.633205</td>\n",
              "      <td>947300.0</td>\n",
              "      <td>22.463347</td>\n",
              "      <td>15.409</td>\n",
              "      <td>5.994041</td>\n",
              "    </tr>\n",
              "    <tr>\n",
              "      <th>956</th>\n",
              "      <td>Tanzania</td>\n",
              "      <td>1984</td>\n",
              "      <td>45.939</td>\n",
              "      <td>15.029</td>\n",
              "      <td>6.542</td>\n",
              "      <td>52.645</td>\n",
              "      <td>49.368</td>\n",
              "      <td>50.966537</td>\n",
              "      <td>3.139727</td>\n",
              "      <td>20532688.0</td>\n",
              "      <td>0.0</td>\n",
              "      <td>0.000000</td>\n",
              "      <td>330000.0</td>\n",
              "      <td>37.254459</td>\n",
              "      <td>885800.0</td>\n",
              "      <td>17278052</td>\n",
              "      <td>2.615846</td>\n",
              "      <td>947300.0</td>\n",
              "      <td>23.179824</td>\n",
              "      <td>15.851</td>\n",
              "      <td>5.967796</td>\n",
              "    </tr>\n",
              "    <tr>\n",
              "      <th>...</th>\n",
              "      <td>...</td>\n",
              "      <td>...</td>\n",
              "      <td>...</td>\n",
              "      <td>...</td>\n",
              "      <td>...</td>\n",
              "      <td>...</td>\n",
              "      <td>...</td>\n",
              "      <td>...</td>\n",
              "      <td>...</td>\n",
              "      <td>...</td>\n",
              "      <td>...</td>\n",
              "      <td>...</td>\n",
              "      <td>...</td>\n",
              "      <td>...</td>\n",
              "      <td>...</td>\n",
              "      <td>...</td>\n",
              "      <td>...</td>\n",
              "      <td>...</td>\n",
              "      <td>...</td>\n",
              "      <td>...</td>\n",
              "      <td>...</td>\n",
              "    </tr>\n",
              "    <tr>\n",
              "      <th>3293</th>\n",
              "      <td>Uganda</td>\n",
              "      <td>2009</td>\n",
              "      <td>45.573</td>\n",
              "      <td>11.106</td>\n",
              "      <td>6.338</td>\n",
              "      <td>56.259</td>\n",
              "      <td>55.020</td>\n",
              "      <td>55.624390</td>\n",
              "      <td>3.360077</td>\n",
              "      <td>31778799.0</td>\n",
              "      <td>8554864.0</td>\n",
              "      <td>26.920036</td>\n",
              "      <td>137620.0</td>\n",
              "      <td>68.875432</td>\n",
              "      <td>199810.0</td>\n",
              "      <td>27364088</td>\n",
              "      <td>3.021542</td>\n",
              "      <td>241550.0</td>\n",
              "      <td>159.045088</td>\n",
              "      <td>13.892</td>\n",
              "      <td>5.484407</td>\n",
              "    </tr>\n",
              "    <tr>\n",
              "      <th>3294</th>\n",
              "      <td>Uganda</td>\n",
              "      <td>2010</td>\n",
              "      <td>45.115</td>\n",
              "      <td>10.655</td>\n",
              "      <td>6.248</td>\n",
              "      <td>57.258</td>\n",
              "      <td>55.762</td>\n",
              "      <td>56.491756</td>\n",
              "      <td>3.358844</td>\n",
              "      <td>32864328.0</td>\n",
              "      <td>9383734.0</td>\n",
              "      <td>28.552947</td>\n",
              "      <td>139120.0</td>\n",
              "      <td>69.626145</td>\n",
              "      <td>199810.0</td>\n",
              "      <td>28201209</td>\n",
              "      <td>3.013335</td>\n",
              "      <td>241550.0</td>\n",
              "      <td>164.477894</td>\n",
              "      <td>14.189</td>\n",
              "      <td>5.474216</td>\n",
              "    </tr>\n",
              "    <tr>\n",
              "      <th>3295</th>\n",
              "      <td>Uganda</td>\n",
              "      <td>2011</td>\n",
              "      <td>44.639</td>\n",
              "      <td>10.239</td>\n",
              "      <td>6.155</td>\n",
              "      <td>58.198</td>\n",
              "      <td>56.438</td>\n",
              "      <td>57.296537</td>\n",
              "      <td>3.359655</td>\n",
              "      <td>33987213.0</td>\n",
              "      <td>12828264.0</td>\n",
              "      <td>37.744383</td>\n",
              "      <td>140620.0</td>\n",
              "      <td>70.376858</td>\n",
              "      <td>199810.0</td>\n",
              "      <td>29061786</td>\n",
              "      <td>3.005927</td>\n",
              "      <td>241550.0</td>\n",
              "      <td>170.097658</td>\n",
              "      <td>14.492</td>\n",
              "      <td>5.472643</td>\n",
              "    </tr>\n",
              "    <tr>\n",
              "      <th>3296</th>\n",
              "      <td>Uganda</td>\n",
              "      <td>2012</td>\n",
              "      <td>44.152</td>\n",
              "      <td>9.865</td>\n",
              "      <td>6.060</td>\n",
              "      <td>59.045</td>\n",
              "      <td>57.039</td>\n",
              "      <td>58.017537</td>\n",
              "      <td>3.358517</td>\n",
              "      <td>35148064.0</td>\n",
              "      <td>16696992.0</td>\n",
              "      <td>47.504727</td>\n",
              "      <td>140620.0</td>\n",
              "      <td>70.376858</td>\n",
              "      <td>199810.0</td>\n",
              "      <td>29946151</td>\n",
              "      <td>2.997669</td>\n",
              "      <td>241550.0</td>\n",
              "      <td>175.907432</td>\n",
              "      <td>14.800</td>\n",
              "      <td>5.461547</td>\n",
              "    </tr>\n",
              "    <tr>\n",
              "      <th>3297</th>\n",
              "      <td>Uganda</td>\n",
              "      <td>2013</td>\n",
              "      <td>43.654</td>\n",
              "      <td>9.534</td>\n",
              "      <td>5.964</td>\n",
              "      <td>59.783</td>\n",
              "      <td>57.567</td>\n",
              "      <td>58.647976</td>\n",
              "      <td>3.351077</td>\n",
              "      <td>36345860.0</td>\n",
              "      <td>16356387.0</td>\n",
              "      <td>45.002064</td>\n",
              "      <td>142620.0</td>\n",
              "      <td>71.377809</td>\n",
              "      <td>199810.0</td>\n",
              "      <td>30852183</td>\n",
              "      <td>2.980671</td>\n",
              "      <td>241550.0</td>\n",
              "      <td>181.902107</td>\n",
              "      <td>15.115</td>\n",
              "      <td>5.457135</td>\n",
              "    </tr>\n",
              "  </tbody>\n",
              "</table>\n",
              "<p>136 rows × 21 columns</p>\n",
              "</div>"
            ],
            "text/plain": [
              "       Country  ...  Data.Urban Development.Urban Population Percent Growth\n",
              "952   Tanzania  ...                                           6.584829     \n",
              "953   Tanzania  ...                                           6.009932     \n",
              "954   Tanzania  ...                                           5.987982     \n",
              "955   Tanzania  ...                                           5.994041     \n",
              "956   Tanzania  ...                                           5.967796     \n",
              "...        ...  ...                                                ...     \n",
              "3293    Uganda  ...                                           5.484407     \n",
              "3294    Uganda  ...                                           5.474216     \n",
              "3295    Uganda  ...                                           5.472643     \n",
              "3296    Uganda  ...                                           5.461547     \n",
              "3297    Uganda  ...                                           5.457135     \n",
              "\n",
              "[136 rows x 21 columns]"
            ]
          },
          "metadata": {
            "tags": []
          },
          "execution_count": 61
        }
      ]
    },
    {
      "cell_type": "code",
      "metadata": {
        "id": "PoxChBQgWON0",
        "colab_type": "code",
        "outputId": "f5a45feb-3388-4704-b26b-f4c8e2d8b953",
        "colab": {
          "base_uri": "https://localhost:8080/",
          "height": 221
        }
      },
      "source": [
        "# check duplicates\n",
        "globalEA.duplicated()\n"
      ],
      "execution_count": 16,
      "outputs": [
        {
          "output_type": "execute_result",
          "data": {
            "text/plain": [
              "0      False\n",
              "1      False\n",
              "2      False\n",
              "3      False\n",
              "4      False\n",
              "       ...  \n",
              "131    False\n",
              "132    False\n",
              "133    False\n",
              "134    False\n",
              "135    False\n",
              "Length: 136, dtype: bool"
            ]
          },
          "metadata": {
            "tags": []
          },
          "execution_count": 16
        }
      ]
    },
    {
      "cell_type": "code",
      "metadata": {
        "id": "XSk9budZYT2Z",
        "colab_type": "code",
        "outputId": "571119ce-6e71-48a0-c8e2-e790c891a625",
        "colab": {
          "base_uri": "https://localhost:8080/",
          "height": 34
        }
      },
      "source": [
        "# Count duplicates\n",
        "dups = globalEA.groupby(globalEA.columns.tolist()).size().reset_index().rename(columns={0:'count'})\n",
        "dups['count'].sum() "
      ],
      "execution_count": 17,
      "outputs": [
        {
          "output_type": "execute_result",
          "data": {
            "text/plain": [
              "136"
            ]
          },
          "metadata": {
            "tags": []
          },
          "execution_count": 17
        }
      ]
    },
    {
      "cell_type": "markdown",
      "metadata": {
        "id": "WyP737ceZEa2",
        "colab_type": "text"
      },
      "source": [
        "the dataset has no duplicates therefore there was no dropping to be done"
      ]
    },
    {
      "cell_type": "code",
      "metadata": {
        "id": "qIDqy7NkYpCg",
        "colab_type": "code",
        "outputId": "97174a3d-4d7d-4edb-9c59-155484a84e28",
        "colab": {
          "base_uri": "https://localhost:8080/",
          "height": 224
        }
      },
      "source": [
        "#fixing the messy columns\n",
        "globalEA.columns = globalEA.columns.str.strip().str.lower().str.replace(' ', '_').str.replace('.', '_').str.replace(',','')\n",
        "globalEA.head()"
      ],
      "execution_count": 62,
      "outputs": [
        {
          "output_type": "execute_result",
          "data": {
            "text/html": [
              "<div>\n",
              "<style scoped>\n",
              "    .dataframe tbody tr th:only-of-type {\n",
              "        vertical-align: middle;\n",
              "    }\n",
              "\n",
              "    .dataframe tbody tr th {\n",
              "        vertical-align: top;\n",
              "    }\n",
              "\n",
              "    .dataframe thead th {\n",
              "        text-align: right;\n",
              "    }\n",
              "</style>\n",
              "<table border=\"1\" class=\"dataframe\">\n",
              "  <thead>\n",
              "    <tr style=\"text-align: right;\">\n",
              "      <th></th>\n",
              "      <th>country</th>\n",
              "      <th>year</th>\n",
              "      <th>data_health_birth_rate</th>\n",
              "      <th>data_health_death_rate</th>\n",
              "      <th>data_health_fertility_rate</th>\n",
              "      <th>data_health_life_expectancy_at_birth_female</th>\n",
              "      <th>data_health_life_expectancy_at_birth_male</th>\n",
              "      <th>data_health_life_expectancy_at_birth_total</th>\n",
              "      <th>data_health_population_growth</th>\n",
              "      <th>data_health_total_population</th>\n",
              "      <th>data_infrastructure_mobile_cellular_subscriptions</th>\n",
              "      <th>data_infrastructure_mobile_cellular_subscriptions_per_100_people</th>\n",
              "      <th>data_rural_development_agricultural_land</th>\n",
              "      <th>data_rural_development_agricultural_land_percent</th>\n",
              "      <th>data_rural_development_land_area</th>\n",
              "      <th>data_rural_development_rural_population</th>\n",
              "      <th>data_rural_development_rural_population_growth</th>\n",
              "      <th>data_rural_development_surface_area</th>\n",
              "      <th>data_urban_development_population_density</th>\n",
              "      <th>data_urban_development_urban_population_percent</th>\n",
              "      <th>data_urban_development_urban_population_percent_growth</th>\n",
              "    </tr>\n",
              "  </thead>\n",
              "  <tbody>\n",
              "    <tr>\n",
              "      <th>952</th>\n",
              "      <td>Tanzania</td>\n",
              "      <td>1980</td>\n",
              "      <td>46.995</td>\n",
              "      <td>15.596</td>\n",
              "      <td>6.685</td>\n",
              "      <td>51.987</td>\n",
              "      <td>48.647</td>\n",
              "      <td>50.276268</td>\n",
              "      <td>3.116857</td>\n",
              "      <td>18111999.0</td>\n",
              "      <td>0.0</td>\n",
              "      <td>0.0</td>\n",
              "      <td>330000.0</td>\n",
              "      <td>37.254459</td>\n",
              "      <td>885800.0</td>\n",
              "      <td>15550781</td>\n",
              "      <td>2.557041</td>\n",
              "      <td>947300.0</td>\n",
              "      <td>20.447052</td>\n",
              "      <td>14.141</td>\n",
              "      <td>6.584829</td>\n",
              "    </tr>\n",
              "    <tr>\n",
              "      <th>953</th>\n",
              "      <td>Tanzania</td>\n",
              "      <td>1981</td>\n",
              "      <td>46.739</td>\n",
              "      <td>15.425</td>\n",
              "      <td>6.653</td>\n",
              "      <td>52.191</td>\n",
              "      <td>48.876</td>\n",
              "      <td>50.493073</td>\n",
              "      <td>3.124317</td>\n",
              "      <td>18686808.0</td>\n",
              "      <td>0.0</td>\n",
              "      <td>0.0</td>\n",
              "      <td>330000.0</td>\n",
              "      <td>37.254459</td>\n",
              "      <td>885800.0</td>\n",
              "      <td>15966943</td>\n",
              "      <td>2.640966</td>\n",
              "      <td>947300.0</td>\n",
              "      <td>21.095967</td>\n",
              "      <td>14.555</td>\n",
              "      <td>6.009932</td>\n",
              "    </tr>\n",
              "    <tr>\n",
              "      <th>954</th>\n",
              "      <td>Tanzania</td>\n",
              "      <td>1982</td>\n",
              "      <td>46.469</td>\n",
              "      <td>15.279</td>\n",
              "      <td>6.618</td>\n",
              "      <td>52.359</td>\n",
              "      <td>49.065</td>\n",
              "      <td>50.671829</td>\n",
              "      <td>3.136535</td>\n",
              "      <td>19282215.0</td>\n",
              "      <td>0.0</td>\n",
              "      <td>0.0</td>\n",
              "      <td>330000.0</td>\n",
              "      <td>37.254459</td>\n",
              "      <td>885800.0</td>\n",
              "      <td>16394510</td>\n",
              "      <td>2.642600</td>\n",
              "      <td>947300.0</td>\n",
              "      <td>21.768136</td>\n",
              "      <td>14.976</td>\n",
              "      <td>5.987982</td>\n",
              "    </tr>\n",
              "    <tr>\n",
              "      <th>955</th>\n",
              "      <td>Tanzania</td>\n",
              "      <td>1983</td>\n",
              "      <td>46.199</td>\n",
              "      <td>15.149</td>\n",
              "      <td>6.580</td>\n",
              "      <td>52.508</td>\n",
              "      <td>49.227</td>\n",
              "      <td>50.827488</td>\n",
              "      <td>3.143771</td>\n",
              "      <td>19898033.0</td>\n",
              "      <td>0.0</td>\n",
              "      <td>0.0</td>\n",
              "      <td>330000.0</td>\n",
              "      <td>37.254459</td>\n",
              "      <td>885800.0</td>\n",
              "      <td>16831945</td>\n",
              "      <td>2.633205</td>\n",
              "      <td>947300.0</td>\n",
              "      <td>22.463347</td>\n",
              "      <td>15.409</td>\n",
              "      <td>5.994041</td>\n",
              "    </tr>\n",
              "    <tr>\n",
              "      <th>956</th>\n",
              "      <td>Tanzania</td>\n",
              "      <td>1984</td>\n",
              "      <td>45.939</td>\n",
              "      <td>15.029</td>\n",
              "      <td>6.542</td>\n",
              "      <td>52.645</td>\n",
              "      <td>49.368</td>\n",
              "      <td>50.966537</td>\n",
              "      <td>3.139727</td>\n",
              "      <td>20532688.0</td>\n",
              "      <td>0.0</td>\n",
              "      <td>0.0</td>\n",
              "      <td>330000.0</td>\n",
              "      <td>37.254459</td>\n",
              "      <td>885800.0</td>\n",
              "      <td>17278052</td>\n",
              "      <td>2.615846</td>\n",
              "      <td>947300.0</td>\n",
              "      <td>23.179824</td>\n",
              "      <td>15.851</td>\n",
              "      <td>5.967796</td>\n",
              "    </tr>\n",
              "  </tbody>\n",
              "</table>\n",
              "</div>"
            ],
            "text/plain": [
              "      country  ...  data_urban_development_urban_population_percent_growth\n",
              "952  Tanzania  ...                                           6.584829     \n",
              "953  Tanzania  ...                                           6.009932     \n",
              "954  Tanzania  ...                                           5.987982     \n",
              "955  Tanzania  ...                                           5.994041     \n",
              "956  Tanzania  ...                                           5.967796     \n",
              "\n",
              "[5 rows x 21 columns]"
            ]
          },
          "metadata": {
            "tags": []
          },
          "execution_count": 62
        }
      ]
    },
    {
      "cell_type": "code",
      "metadata": {
        "id": "CHSicVP-mMoH",
        "colab_type": "code",
        "outputId": "c0bc63d0-aed2-4d10-8564-552101b18277",
        "colab": {
          "base_uri": "https://localhost:8080/",
          "height": 34
        }
      },
      "source": [
        "# Checking the shape of the dataset\n",
        "globalEA.shape"
      ],
      "execution_count": 63,
      "outputs": [
        {
          "output_type": "execute_result",
          "data": {
            "text/plain": [
              "(136, 21)"
            ]
          },
          "metadata": {
            "tags": []
          },
          "execution_count": 63
        }
      ]
    },
    {
      "cell_type": "code",
      "metadata": {
        "id": "Bc7IEDYipTKV",
        "colab_type": "code",
        "outputId": "957a373f-c8d7-474d-a6c9-445633c3430b",
        "colab": {
          "base_uri": "https://localhost:8080/",
          "height": 439
        }
      },
      "source": [
        "# Rename columns\n",
        "globalEA.columns=['country','year','birth_rate','death_rate','fertility_rate','female_expectancy_at_birth','male_expectancy_at_birth','total_expectancy_at_birth','population_growth','total_population','cellular_subscriptions','cellular_subscriptions_per_100_people','rural_agricultural_land','rural_agricultural_land_percent','rural_land_area','rural_population','rural_population_growth','rural_surface_area','urban_population_density','urban_population_percent','urban_population_percent_growth']\n",
        "globalEA"
      ],
      "execution_count": 64,
      "outputs": [
        {
          "output_type": "execute_result",
          "data": {
            "text/html": [
              "<div>\n",
              "<style scoped>\n",
              "    .dataframe tbody tr th:only-of-type {\n",
              "        vertical-align: middle;\n",
              "    }\n",
              "\n",
              "    .dataframe tbody tr th {\n",
              "        vertical-align: top;\n",
              "    }\n",
              "\n",
              "    .dataframe thead th {\n",
              "        text-align: right;\n",
              "    }\n",
              "</style>\n",
              "<table border=\"1\" class=\"dataframe\">\n",
              "  <thead>\n",
              "    <tr style=\"text-align: right;\">\n",
              "      <th></th>\n",
              "      <th>country</th>\n",
              "      <th>year</th>\n",
              "      <th>birth_rate</th>\n",
              "      <th>death_rate</th>\n",
              "      <th>fertility_rate</th>\n",
              "      <th>female_expectancy_at_birth</th>\n",
              "      <th>male_expectancy_at_birth</th>\n",
              "      <th>total_expectancy_at_birth</th>\n",
              "      <th>population_growth</th>\n",
              "      <th>total_population</th>\n",
              "      <th>cellular_subscriptions</th>\n",
              "      <th>cellular_subscriptions_per_100_people</th>\n",
              "      <th>rural_agricultural_land</th>\n",
              "      <th>rural_agricultural_land_percent</th>\n",
              "      <th>rural_land_area</th>\n",
              "      <th>rural_population</th>\n",
              "      <th>rural_population_growth</th>\n",
              "      <th>rural_surface_area</th>\n",
              "      <th>urban_population_density</th>\n",
              "      <th>urban_population_percent</th>\n",
              "      <th>urban_population_percent_growth</th>\n",
              "    </tr>\n",
              "  </thead>\n",
              "  <tbody>\n",
              "    <tr>\n",
              "      <th>952</th>\n",
              "      <td>Tanzania</td>\n",
              "      <td>1980</td>\n",
              "      <td>46.995</td>\n",
              "      <td>15.596</td>\n",
              "      <td>6.685</td>\n",
              "      <td>51.987</td>\n",
              "      <td>48.647</td>\n",
              "      <td>50.276268</td>\n",
              "      <td>3.116857</td>\n",
              "      <td>18111999.0</td>\n",
              "      <td>0.0</td>\n",
              "      <td>0.000000</td>\n",
              "      <td>330000.0</td>\n",
              "      <td>37.254459</td>\n",
              "      <td>885800.0</td>\n",
              "      <td>15550781</td>\n",
              "      <td>2.557041</td>\n",
              "      <td>947300.0</td>\n",
              "      <td>20.447052</td>\n",
              "      <td>14.141</td>\n",
              "      <td>6.584829</td>\n",
              "    </tr>\n",
              "    <tr>\n",
              "      <th>953</th>\n",
              "      <td>Tanzania</td>\n",
              "      <td>1981</td>\n",
              "      <td>46.739</td>\n",
              "      <td>15.425</td>\n",
              "      <td>6.653</td>\n",
              "      <td>52.191</td>\n",
              "      <td>48.876</td>\n",
              "      <td>50.493073</td>\n",
              "      <td>3.124317</td>\n",
              "      <td>18686808.0</td>\n",
              "      <td>0.0</td>\n",
              "      <td>0.000000</td>\n",
              "      <td>330000.0</td>\n",
              "      <td>37.254459</td>\n",
              "      <td>885800.0</td>\n",
              "      <td>15966943</td>\n",
              "      <td>2.640966</td>\n",
              "      <td>947300.0</td>\n",
              "      <td>21.095967</td>\n",
              "      <td>14.555</td>\n",
              "      <td>6.009932</td>\n",
              "    </tr>\n",
              "    <tr>\n",
              "      <th>954</th>\n",
              "      <td>Tanzania</td>\n",
              "      <td>1982</td>\n",
              "      <td>46.469</td>\n",
              "      <td>15.279</td>\n",
              "      <td>6.618</td>\n",
              "      <td>52.359</td>\n",
              "      <td>49.065</td>\n",
              "      <td>50.671829</td>\n",
              "      <td>3.136535</td>\n",
              "      <td>19282215.0</td>\n",
              "      <td>0.0</td>\n",
              "      <td>0.000000</td>\n",
              "      <td>330000.0</td>\n",
              "      <td>37.254459</td>\n",
              "      <td>885800.0</td>\n",
              "      <td>16394510</td>\n",
              "      <td>2.642600</td>\n",
              "      <td>947300.0</td>\n",
              "      <td>21.768136</td>\n",
              "      <td>14.976</td>\n",
              "      <td>5.987982</td>\n",
              "    </tr>\n",
              "    <tr>\n",
              "      <th>955</th>\n",
              "      <td>Tanzania</td>\n",
              "      <td>1983</td>\n",
              "      <td>46.199</td>\n",
              "      <td>15.149</td>\n",
              "      <td>6.580</td>\n",
              "      <td>52.508</td>\n",
              "      <td>49.227</td>\n",
              "      <td>50.827488</td>\n",
              "      <td>3.143771</td>\n",
              "      <td>19898033.0</td>\n",
              "      <td>0.0</td>\n",
              "      <td>0.000000</td>\n",
              "      <td>330000.0</td>\n",
              "      <td>37.254459</td>\n",
              "      <td>885800.0</td>\n",
              "      <td>16831945</td>\n",
              "      <td>2.633205</td>\n",
              "      <td>947300.0</td>\n",
              "      <td>22.463347</td>\n",
              "      <td>15.409</td>\n",
              "      <td>5.994041</td>\n",
              "    </tr>\n",
              "    <tr>\n",
              "      <th>956</th>\n",
              "      <td>Tanzania</td>\n",
              "      <td>1984</td>\n",
              "      <td>45.939</td>\n",
              "      <td>15.029</td>\n",
              "      <td>6.542</td>\n",
              "      <td>52.645</td>\n",
              "      <td>49.368</td>\n",
              "      <td>50.966537</td>\n",
              "      <td>3.139727</td>\n",
              "      <td>20532688.0</td>\n",
              "      <td>0.0</td>\n",
              "      <td>0.000000</td>\n",
              "      <td>330000.0</td>\n",
              "      <td>37.254459</td>\n",
              "      <td>885800.0</td>\n",
              "      <td>17278052</td>\n",
              "      <td>2.615846</td>\n",
              "      <td>947300.0</td>\n",
              "      <td>23.179824</td>\n",
              "      <td>15.851</td>\n",
              "      <td>5.967796</td>\n",
              "    </tr>\n",
              "    <tr>\n",
              "      <th>...</th>\n",
              "      <td>...</td>\n",
              "      <td>...</td>\n",
              "      <td>...</td>\n",
              "      <td>...</td>\n",
              "      <td>...</td>\n",
              "      <td>...</td>\n",
              "      <td>...</td>\n",
              "      <td>...</td>\n",
              "      <td>...</td>\n",
              "      <td>...</td>\n",
              "      <td>...</td>\n",
              "      <td>...</td>\n",
              "      <td>...</td>\n",
              "      <td>...</td>\n",
              "      <td>...</td>\n",
              "      <td>...</td>\n",
              "      <td>...</td>\n",
              "      <td>...</td>\n",
              "      <td>...</td>\n",
              "      <td>...</td>\n",
              "      <td>...</td>\n",
              "    </tr>\n",
              "    <tr>\n",
              "      <th>3293</th>\n",
              "      <td>Uganda</td>\n",
              "      <td>2009</td>\n",
              "      <td>45.573</td>\n",
              "      <td>11.106</td>\n",
              "      <td>6.338</td>\n",
              "      <td>56.259</td>\n",
              "      <td>55.020</td>\n",
              "      <td>55.624390</td>\n",
              "      <td>3.360077</td>\n",
              "      <td>31778799.0</td>\n",
              "      <td>8554864.0</td>\n",
              "      <td>26.920036</td>\n",
              "      <td>137620.0</td>\n",
              "      <td>68.875432</td>\n",
              "      <td>199810.0</td>\n",
              "      <td>27364088</td>\n",
              "      <td>3.021542</td>\n",
              "      <td>241550.0</td>\n",
              "      <td>159.045088</td>\n",
              "      <td>13.892</td>\n",
              "      <td>5.484407</td>\n",
              "    </tr>\n",
              "    <tr>\n",
              "      <th>3294</th>\n",
              "      <td>Uganda</td>\n",
              "      <td>2010</td>\n",
              "      <td>45.115</td>\n",
              "      <td>10.655</td>\n",
              "      <td>6.248</td>\n",
              "      <td>57.258</td>\n",
              "      <td>55.762</td>\n",
              "      <td>56.491756</td>\n",
              "      <td>3.358844</td>\n",
              "      <td>32864328.0</td>\n",
              "      <td>9383734.0</td>\n",
              "      <td>28.552947</td>\n",
              "      <td>139120.0</td>\n",
              "      <td>69.626145</td>\n",
              "      <td>199810.0</td>\n",
              "      <td>28201209</td>\n",
              "      <td>3.013335</td>\n",
              "      <td>241550.0</td>\n",
              "      <td>164.477894</td>\n",
              "      <td>14.189</td>\n",
              "      <td>5.474216</td>\n",
              "    </tr>\n",
              "    <tr>\n",
              "      <th>3295</th>\n",
              "      <td>Uganda</td>\n",
              "      <td>2011</td>\n",
              "      <td>44.639</td>\n",
              "      <td>10.239</td>\n",
              "      <td>6.155</td>\n",
              "      <td>58.198</td>\n",
              "      <td>56.438</td>\n",
              "      <td>57.296537</td>\n",
              "      <td>3.359655</td>\n",
              "      <td>33987213.0</td>\n",
              "      <td>12828264.0</td>\n",
              "      <td>37.744383</td>\n",
              "      <td>140620.0</td>\n",
              "      <td>70.376858</td>\n",
              "      <td>199810.0</td>\n",
              "      <td>29061786</td>\n",
              "      <td>3.005927</td>\n",
              "      <td>241550.0</td>\n",
              "      <td>170.097658</td>\n",
              "      <td>14.492</td>\n",
              "      <td>5.472643</td>\n",
              "    </tr>\n",
              "    <tr>\n",
              "      <th>3296</th>\n",
              "      <td>Uganda</td>\n",
              "      <td>2012</td>\n",
              "      <td>44.152</td>\n",
              "      <td>9.865</td>\n",
              "      <td>6.060</td>\n",
              "      <td>59.045</td>\n",
              "      <td>57.039</td>\n",
              "      <td>58.017537</td>\n",
              "      <td>3.358517</td>\n",
              "      <td>35148064.0</td>\n",
              "      <td>16696992.0</td>\n",
              "      <td>47.504727</td>\n",
              "      <td>140620.0</td>\n",
              "      <td>70.376858</td>\n",
              "      <td>199810.0</td>\n",
              "      <td>29946151</td>\n",
              "      <td>2.997669</td>\n",
              "      <td>241550.0</td>\n",
              "      <td>175.907432</td>\n",
              "      <td>14.800</td>\n",
              "      <td>5.461547</td>\n",
              "    </tr>\n",
              "    <tr>\n",
              "      <th>3297</th>\n",
              "      <td>Uganda</td>\n",
              "      <td>2013</td>\n",
              "      <td>43.654</td>\n",
              "      <td>9.534</td>\n",
              "      <td>5.964</td>\n",
              "      <td>59.783</td>\n",
              "      <td>57.567</td>\n",
              "      <td>58.647976</td>\n",
              "      <td>3.351077</td>\n",
              "      <td>36345860.0</td>\n",
              "      <td>16356387.0</td>\n",
              "      <td>45.002064</td>\n",
              "      <td>142620.0</td>\n",
              "      <td>71.377809</td>\n",
              "      <td>199810.0</td>\n",
              "      <td>30852183</td>\n",
              "      <td>2.980671</td>\n",
              "      <td>241550.0</td>\n",
              "      <td>181.902107</td>\n",
              "      <td>15.115</td>\n",
              "      <td>5.457135</td>\n",
              "    </tr>\n",
              "  </tbody>\n",
              "</table>\n",
              "<p>136 rows × 21 columns</p>\n",
              "</div>"
            ],
            "text/plain": [
              "       country  year  ...  urban_population_percent  urban_population_percent_growth\n",
              "952   Tanzania  1980  ...                    14.141                         6.584829\n",
              "953   Tanzania  1981  ...                    14.555                         6.009932\n",
              "954   Tanzania  1982  ...                    14.976                         5.987982\n",
              "955   Tanzania  1983  ...                    15.409                         5.994041\n",
              "956   Tanzania  1984  ...                    15.851                         5.967796\n",
              "...        ...   ...  ...                       ...                              ...\n",
              "3293    Uganda  2009  ...                    13.892                         5.484407\n",
              "3294    Uganda  2010  ...                    14.189                         5.474216\n",
              "3295    Uganda  2011  ...                    14.492                         5.472643\n",
              "3296    Uganda  2012  ...                    14.800                         5.461547\n",
              "3297    Uganda  2013  ...                    15.115                         5.457135\n",
              "\n",
              "[136 rows x 21 columns]"
            ]
          },
          "metadata": {
            "tags": []
          },
          "execution_count": 64
        }
      ]
    },
    {
      "cell_type": "code",
      "metadata": {
        "id": "SyO3lI33Z0aK",
        "colab_type": "code",
        "outputId": "3b28646c-9870-4525-f149-790ebc7e277b",
        "colab": {
          "base_uri": "https://localhost:8080/",
          "height": 357
        }
      },
      "source": [
        "# Accuracy check\n",
        "# Confirm whether agricultural land divided by the surface area percentage is equal to agricultural land percentage\n",
        "al=globalEA['rural_agricultural_land']\n",
        "sa=globalEA['rural_land_area']\n",
        "\n",
        "perc=((al/sa)*100)\n",
        "globalEA['percentage'] = perc\n",
        "globalEA.loc[globalEA.percentage == globalEA.rural_agricultural_land_percent, 'equal'] = 'True' \n",
        "globalEA.loc[globalEA.percentage != globalEA.rural_agricultural_land_percent , 'not_equal'] = 'False' \n",
        "globalEA.equal.value_counts()"
      ],
      "execution_count": 65,
      "outputs": [
        {
          "output_type": "stream",
          "text": [
            "/usr/local/lib/python3.6/dist-packages/ipykernel_launcher.py:5: SettingWithCopyWarning: \n",
            "A value is trying to be set on a copy of a slice from a DataFrame.\n",
            "Try using .loc[row_indexer,col_indexer] = value instead\n",
            "\n",
            "See the caveats in the documentation: http://pandas.pydata.org/pandas-docs/stable/user_guide/indexing.html#returning-a-view-versus-a-copy\n",
            "  \"\"\"\n",
            "/usr/local/lib/python3.6/dist-packages/pandas/core/indexing.py:376: SettingWithCopyWarning: \n",
            "A value is trying to be set on a copy of a slice from a DataFrame.\n",
            "Try using .loc[row_indexer,col_indexer] = value instead\n",
            "\n",
            "See the caveats in the documentation: http://pandas.pydata.org/pandas-docs/stable/user_guide/indexing.html#returning-a-view-versus-a-copy\n",
            "  self.obj[key] = _infer_fill_value(value)\n",
            "/usr/local/lib/python3.6/dist-packages/pandas/core/indexing.py:494: SettingWithCopyWarning: \n",
            "A value is trying to be set on a copy of a slice from a DataFrame.\n",
            "Try using .loc[row_indexer,col_indexer] = value instead\n",
            "\n",
            "See the caveats in the documentation: http://pandas.pydata.org/pandas-docs/stable/user_guide/indexing.html#returning-a-view-versus-a-copy\n",
            "  self.obj[item] = s\n"
          ],
          "name": "stderr"
        },
        {
          "output_type": "execute_result",
          "data": {
            "text/plain": [
              "True    12\n",
              "Name: equal, dtype: int64"
            ]
          },
          "metadata": {
            "tags": []
          },
          "execution_count": 65
        }
      ]
    },
    {
      "cell_type": "code",
      "metadata": {
        "id": "dgRRg9HBshTY",
        "colab_type": "code",
        "outputId": "8b0a2f00-0dd7-4476-ecc4-18b26bbce92c",
        "colab": {
          "base_uri": "https://localhost:8080/",
          "height": 255
        }
      },
      "source": [
        "al=globalEA['rural_agricultural_land']\n",
        "sa=globalEA['rural_land_area']\n",
        "\n",
        "perc=((al/sa)*100)\n",
        "globalEA['percentage'] = perc\n",
        "globalEA.loc[globalEA.percentage != globalEA.rural_agricultural_land_percent , 'not_equal'] = 'False' \n",
        "globalEA.not_equal.value_counts()"
      ],
      "execution_count": 66,
      "outputs": [
        {
          "output_type": "stream",
          "text": [
            "/usr/local/lib/python3.6/dist-packages/ipykernel_launcher.py:5: SettingWithCopyWarning: \n",
            "A value is trying to be set on a copy of a slice from a DataFrame.\n",
            "Try using .loc[row_indexer,col_indexer] = value instead\n",
            "\n",
            "See the caveats in the documentation: http://pandas.pydata.org/pandas-docs/stable/user_guide/indexing.html#returning-a-view-versus-a-copy\n",
            "  \"\"\"\n",
            "/usr/local/lib/python3.6/dist-packages/pandas/core/indexing.py:494: SettingWithCopyWarning: \n",
            "A value is trying to be set on a copy of a slice from a DataFrame.\n",
            "Try using .loc[row_indexer,col_indexer] = value instead\n",
            "\n",
            "See the caveats in the documentation: http://pandas.pydata.org/pandas-docs/stable/user_guide/indexing.html#returning-a-view-versus-a-copy\n",
            "  self.obj[item] = s\n"
          ],
          "name": "stderr"
        },
        {
          "output_type": "execute_result",
          "data": {
            "text/plain": [
              "False    124\n",
              "Name: not_equal, dtype: int64"
            ]
          },
          "metadata": {
            "tags": []
          },
          "execution_count": 66
        }
      ]
    },
    {
      "cell_type": "code",
      "metadata": {
        "id": "yVJJ4UCOsl0_",
        "colab_type": "code",
        "outputId": "707f6685-c91e-4f04-d5cf-2541053fa79e",
        "colab": {
          "base_uri": "https://localhost:8080/",
          "height": 421
        }
      },
      "source": [
        "t = globalEA[['country','year','rural_agricultural_land','rural_agricultural_land_percent','equal']]\n",
        "t = t.loc[globalEA['equal'] == 'True']\n",
        "t"
      ],
      "execution_count": 67,
      "outputs": [
        {
          "output_type": "execute_result",
          "data": {
            "text/html": [
              "<div>\n",
              "<style scoped>\n",
              "    .dataframe tbody tr th:only-of-type {\n",
              "        vertical-align: middle;\n",
              "    }\n",
              "\n",
              "    .dataframe tbody tr th {\n",
              "        vertical-align: top;\n",
              "    }\n",
              "\n",
              "    .dataframe thead th {\n",
              "        text-align: right;\n",
              "    }\n",
              "</style>\n",
              "<table border=\"1\" class=\"dataframe\">\n",
              "  <thead>\n",
              "    <tr style=\"text-align: right;\">\n",
              "      <th></th>\n",
              "      <th>country</th>\n",
              "      <th>year</th>\n",
              "      <th>rural_agricultural_land</th>\n",
              "      <th>rural_agricultural_land_percent</th>\n",
              "      <th>equal</th>\n",
              "    </tr>\n",
              "  </thead>\n",
              "  <tbody>\n",
              "    <tr>\n",
              "      <th>975</th>\n",
              "      <td>Tanzania</td>\n",
              "      <td>2003</td>\n",
              "      <td>342000.0</td>\n",
              "      <td>38.609167</td>\n",
              "      <td>True</td>\n",
              "    </tr>\n",
              "    <tr>\n",
              "      <th>980</th>\n",
              "      <td>Tanzania</td>\n",
              "      <td>2008</td>\n",
              "      <td>356500.0</td>\n",
              "      <td>40.246105</td>\n",
              "      <td>True</td>\n",
              "    </tr>\n",
              "    <tr>\n",
              "      <th>1775</th>\n",
              "      <td>Rwanda</td>\n",
              "      <td>1987</td>\n",
              "      <td>18300.0</td>\n",
              "      <td>74.179165</td>\n",
              "      <td>True</td>\n",
              "    </tr>\n",
              "    <tr>\n",
              "      <th>1777</th>\n",
              "      <td>Rwanda</td>\n",
              "      <td>1989</td>\n",
              "      <td>18530.0</td>\n",
              "      <td>75.111471</td>\n",
              "      <td>True</td>\n",
              "    </tr>\n",
              "    <tr>\n",
              "      <th>1788</th>\n",
              "      <td>Rwanda</td>\n",
              "      <td>2000</td>\n",
              "      <td>16610.0</td>\n",
              "      <td>67.328739</td>\n",
              "      <td>True</td>\n",
              "    </tr>\n",
              "    <tr>\n",
              "      <th>1796</th>\n",
              "      <td>Rwanda</td>\n",
              "      <td>2008</td>\n",
              "      <td>18000.0</td>\n",
              "      <td>72.963113</td>\n",
              "      <td>True</td>\n",
              "    </tr>\n",
              "    <tr>\n",
              "      <th>2698</th>\n",
              "      <td>Kenya</td>\n",
              "      <td>1992</td>\n",
              "      <td>268770.0</td>\n",
              "      <td>47.223882</td>\n",
              "      <td>True</td>\n",
              "    </tr>\n",
              "    <tr>\n",
              "      <th>2700</th>\n",
              "      <td>Kenya</td>\n",
              "      <td>1994</td>\n",
              "      <td>268400.0</td>\n",
              "      <td>47.158871</td>\n",
              "      <td>True</td>\n",
              "    </tr>\n",
              "    <tr>\n",
              "      <th>2701</th>\n",
              "      <td>Kenya</td>\n",
              "      <td>1995</td>\n",
              "      <td>272320.0</td>\n",
              "      <td>47.847630</td>\n",
              "      <td>True</td>\n",
              "    </tr>\n",
              "    <tr>\n",
              "      <th>3264</th>\n",
              "      <td>Uganda</td>\n",
              "      <td>1980</td>\n",
              "      <td>106100.0</td>\n",
              "      <td>53.100445</td>\n",
              "      <td>True</td>\n",
              "    </tr>\n",
              "    <tr>\n",
              "      <th>3289</th>\n",
              "      <td>Uganda</td>\n",
              "      <td>2005</td>\n",
              "      <td>132620.0</td>\n",
              "      <td>66.373054</td>\n",
              "      <td>True</td>\n",
              "    </tr>\n",
              "    <tr>\n",
              "      <th>3290</th>\n",
              "      <td>Uganda</td>\n",
              "      <td>2006</td>\n",
              "      <td>132620.0</td>\n",
              "      <td>66.373054</td>\n",
              "      <td>True</td>\n",
              "    </tr>\n",
              "  </tbody>\n",
              "</table>\n",
              "</div>"
            ],
            "text/plain": [
              "       country  year  ...  rural_agricultural_land_percent  equal\n",
              "975   Tanzania  2003  ...                        38.609167   True\n",
              "980   Tanzania  2008  ...                        40.246105   True\n",
              "1775    Rwanda  1987  ...                        74.179165   True\n",
              "1777    Rwanda  1989  ...                        75.111471   True\n",
              "1788    Rwanda  2000  ...                        67.328739   True\n",
              "1796    Rwanda  2008  ...                        72.963113   True\n",
              "2698     Kenya  1992  ...                        47.223882   True\n",
              "2700     Kenya  1994  ...                        47.158871   True\n",
              "2701     Kenya  1995  ...                        47.847630   True\n",
              "3264    Uganda  1980  ...                        53.100445   True\n",
              "3289    Uganda  2005  ...                        66.373054   True\n",
              "3290    Uganda  2006  ...                        66.373054   True\n",
              "\n",
              "[12 rows x 5 columns]"
            ]
          },
          "metadata": {
            "tags": []
          },
          "execution_count": 67
        }
      ]
    },
    {
      "cell_type": "code",
      "metadata": {
        "id": "vDcMNLI0qJpV",
        "colab_type": "code",
        "outputId": "032f4c3c-410c-4e6c-bee9-fc8ac43a068c",
        "colab": {
          "base_uri": "https://localhost:8080/",
          "height": 419
        }
      },
      "source": [
        "f = globalEA[['country','year','rural_agricultural_land','rural_agricultural_land_percent','not_equal']]\n",
        "f = f.loc[globalEA['not_equal'] == 'False']\n",
        "f"
      ],
      "execution_count": 68,
      "outputs": [
        {
          "output_type": "execute_result",
          "data": {
            "text/html": [
              "<div>\n",
              "<style scoped>\n",
              "    .dataframe tbody tr th:only-of-type {\n",
              "        vertical-align: middle;\n",
              "    }\n",
              "\n",
              "    .dataframe tbody tr th {\n",
              "        vertical-align: top;\n",
              "    }\n",
              "\n",
              "    .dataframe thead th {\n",
              "        text-align: right;\n",
              "    }\n",
              "</style>\n",
              "<table border=\"1\" class=\"dataframe\">\n",
              "  <thead>\n",
              "    <tr style=\"text-align: right;\">\n",
              "      <th></th>\n",
              "      <th>country</th>\n",
              "      <th>year</th>\n",
              "      <th>rural_agricultural_land</th>\n",
              "      <th>rural_agricultural_land_percent</th>\n",
              "      <th>not_equal</th>\n",
              "    </tr>\n",
              "  </thead>\n",
              "  <tbody>\n",
              "    <tr>\n",
              "      <th>952</th>\n",
              "      <td>Tanzania</td>\n",
              "      <td>1980</td>\n",
              "      <td>330000.0</td>\n",
              "      <td>37.254459</td>\n",
              "      <td>False</td>\n",
              "    </tr>\n",
              "    <tr>\n",
              "      <th>953</th>\n",
              "      <td>Tanzania</td>\n",
              "      <td>1981</td>\n",
              "      <td>330000.0</td>\n",
              "      <td>37.254459</td>\n",
              "      <td>False</td>\n",
              "    </tr>\n",
              "    <tr>\n",
              "      <th>954</th>\n",
              "      <td>Tanzania</td>\n",
              "      <td>1982</td>\n",
              "      <td>330000.0</td>\n",
              "      <td>37.254459</td>\n",
              "      <td>False</td>\n",
              "    </tr>\n",
              "    <tr>\n",
              "      <th>955</th>\n",
              "      <td>Tanzania</td>\n",
              "      <td>1983</td>\n",
              "      <td>330000.0</td>\n",
              "      <td>37.254459</td>\n",
              "      <td>False</td>\n",
              "    </tr>\n",
              "    <tr>\n",
              "      <th>956</th>\n",
              "      <td>Tanzania</td>\n",
              "      <td>1984</td>\n",
              "      <td>330000.0</td>\n",
              "      <td>37.254459</td>\n",
              "      <td>False</td>\n",
              "    </tr>\n",
              "    <tr>\n",
              "      <th>...</th>\n",
              "      <td>...</td>\n",
              "      <td>...</td>\n",
              "      <td>...</td>\n",
              "      <td>...</td>\n",
              "      <td>...</td>\n",
              "    </tr>\n",
              "    <tr>\n",
              "      <th>3293</th>\n",
              "      <td>Uganda</td>\n",
              "      <td>2009</td>\n",
              "      <td>137620.0</td>\n",
              "      <td>68.875432</td>\n",
              "      <td>False</td>\n",
              "    </tr>\n",
              "    <tr>\n",
              "      <th>3294</th>\n",
              "      <td>Uganda</td>\n",
              "      <td>2010</td>\n",
              "      <td>139120.0</td>\n",
              "      <td>69.626145</td>\n",
              "      <td>False</td>\n",
              "    </tr>\n",
              "    <tr>\n",
              "      <th>3295</th>\n",
              "      <td>Uganda</td>\n",
              "      <td>2011</td>\n",
              "      <td>140620.0</td>\n",
              "      <td>70.376858</td>\n",
              "      <td>False</td>\n",
              "    </tr>\n",
              "    <tr>\n",
              "      <th>3296</th>\n",
              "      <td>Uganda</td>\n",
              "      <td>2012</td>\n",
              "      <td>140620.0</td>\n",
              "      <td>70.376858</td>\n",
              "      <td>False</td>\n",
              "    </tr>\n",
              "    <tr>\n",
              "      <th>3297</th>\n",
              "      <td>Uganda</td>\n",
              "      <td>2013</td>\n",
              "      <td>142620.0</td>\n",
              "      <td>71.377809</td>\n",
              "      <td>False</td>\n",
              "    </tr>\n",
              "  </tbody>\n",
              "</table>\n",
              "<p>124 rows × 5 columns</p>\n",
              "</div>"
            ],
            "text/plain": [
              "       country  year  ...  rural_agricultural_land_percent  not_equal\n",
              "952   Tanzania  1980  ...                        37.254459      False\n",
              "953   Tanzania  1981  ...                        37.254459      False\n",
              "954   Tanzania  1982  ...                        37.254459      False\n",
              "955   Tanzania  1983  ...                        37.254459      False\n",
              "956   Tanzania  1984  ...                        37.254459      False\n",
              "...        ...   ...  ...                              ...        ...\n",
              "3293    Uganda  2009  ...                        68.875432      False\n",
              "3294    Uganda  2010  ...                        69.626145      False\n",
              "3295    Uganda  2011  ...                        70.376858      False\n",
              "3296    Uganda  2012  ...                        70.376858      False\n",
              "3297    Uganda  2013  ...                        71.377809      False\n",
              "\n",
              "[124 rows x 5 columns]"
            ]
          },
          "metadata": {
            "tags": []
          },
          "execution_count": 68
        }
      ]
    },
    {
      "cell_type": "code",
      "metadata": {
        "id": "xok9L5Sra0Se",
        "colab_type": "code",
        "outputId": "0c8b4807-4a36-43e3-d318-023d993280b4",
        "colab": {
          "base_uri": "https://localhost:8080/",
          "height": 524
        }
      },
      "source": [
        "# Drop more columns\n",
        "\n",
        "globalEA.drop(['equal','not_equal','percentage'],axis=1,inplace=True)\n",
        "globalEA"
      ],
      "execution_count": 69,
      "outputs": [
        {
          "output_type": "stream",
          "text": [
            "/usr/local/lib/python3.6/dist-packages/pandas/core/frame.py:4117: SettingWithCopyWarning: \n",
            "A value is trying to be set on a copy of a slice from a DataFrame\n",
            "\n",
            "See the caveats in the documentation: http://pandas.pydata.org/pandas-docs/stable/user_guide/indexing.html#returning-a-view-versus-a-copy\n",
            "  errors=errors,\n"
          ],
          "name": "stderr"
        },
        {
          "output_type": "execute_result",
          "data": {
            "text/html": [
              "<div>\n",
              "<style scoped>\n",
              "    .dataframe tbody tr th:only-of-type {\n",
              "        vertical-align: middle;\n",
              "    }\n",
              "\n",
              "    .dataframe tbody tr th {\n",
              "        vertical-align: top;\n",
              "    }\n",
              "\n",
              "    .dataframe thead th {\n",
              "        text-align: right;\n",
              "    }\n",
              "</style>\n",
              "<table border=\"1\" class=\"dataframe\">\n",
              "  <thead>\n",
              "    <tr style=\"text-align: right;\">\n",
              "      <th></th>\n",
              "      <th>country</th>\n",
              "      <th>year</th>\n",
              "      <th>birth_rate</th>\n",
              "      <th>death_rate</th>\n",
              "      <th>fertility_rate</th>\n",
              "      <th>female_expectancy_at_birth</th>\n",
              "      <th>male_expectancy_at_birth</th>\n",
              "      <th>total_expectancy_at_birth</th>\n",
              "      <th>population_growth</th>\n",
              "      <th>total_population</th>\n",
              "      <th>cellular_subscriptions</th>\n",
              "      <th>cellular_subscriptions_per_100_people</th>\n",
              "      <th>rural_agricultural_land</th>\n",
              "      <th>rural_agricultural_land_percent</th>\n",
              "      <th>rural_land_area</th>\n",
              "      <th>rural_population</th>\n",
              "      <th>rural_population_growth</th>\n",
              "      <th>rural_surface_area</th>\n",
              "      <th>urban_population_density</th>\n",
              "      <th>urban_population_percent</th>\n",
              "      <th>urban_population_percent_growth</th>\n",
              "    </tr>\n",
              "  </thead>\n",
              "  <tbody>\n",
              "    <tr>\n",
              "      <th>952</th>\n",
              "      <td>Tanzania</td>\n",
              "      <td>1980</td>\n",
              "      <td>46.995</td>\n",
              "      <td>15.596</td>\n",
              "      <td>6.685</td>\n",
              "      <td>51.987</td>\n",
              "      <td>48.647</td>\n",
              "      <td>50.276268</td>\n",
              "      <td>3.116857</td>\n",
              "      <td>18111999.0</td>\n",
              "      <td>0.0</td>\n",
              "      <td>0.000000</td>\n",
              "      <td>330000.0</td>\n",
              "      <td>37.254459</td>\n",
              "      <td>885800.0</td>\n",
              "      <td>15550781</td>\n",
              "      <td>2.557041</td>\n",
              "      <td>947300.0</td>\n",
              "      <td>20.447052</td>\n",
              "      <td>14.141</td>\n",
              "      <td>6.584829</td>\n",
              "    </tr>\n",
              "    <tr>\n",
              "      <th>953</th>\n",
              "      <td>Tanzania</td>\n",
              "      <td>1981</td>\n",
              "      <td>46.739</td>\n",
              "      <td>15.425</td>\n",
              "      <td>6.653</td>\n",
              "      <td>52.191</td>\n",
              "      <td>48.876</td>\n",
              "      <td>50.493073</td>\n",
              "      <td>3.124317</td>\n",
              "      <td>18686808.0</td>\n",
              "      <td>0.0</td>\n",
              "      <td>0.000000</td>\n",
              "      <td>330000.0</td>\n",
              "      <td>37.254459</td>\n",
              "      <td>885800.0</td>\n",
              "      <td>15966943</td>\n",
              "      <td>2.640966</td>\n",
              "      <td>947300.0</td>\n",
              "      <td>21.095967</td>\n",
              "      <td>14.555</td>\n",
              "      <td>6.009932</td>\n",
              "    </tr>\n",
              "    <tr>\n",
              "      <th>954</th>\n",
              "      <td>Tanzania</td>\n",
              "      <td>1982</td>\n",
              "      <td>46.469</td>\n",
              "      <td>15.279</td>\n",
              "      <td>6.618</td>\n",
              "      <td>52.359</td>\n",
              "      <td>49.065</td>\n",
              "      <td>50.671829</td>\n",
              "      <td>3.136535</td>\n",
              "      <td>19282215.0</td>\n",
              "      <td>0.0</td>\n",
              "      <td>0.000000</td>\n",
              "      <td>330000.0</td>\n",
              "      <td>37.254459</td>\n",
              "      <td>885800.0</td>\n",
              "      <td>16394510</td>\n",
              "      <td>2.642600</td>\n",
              "      <td>947300.0</td>\n",
              "      <td>21.768136</td>\n",
              "      <td>14.976</td>\n",
              "      <td>5.987982</td>\n",
              "    </tr>\n",
              "    <tr>\n",
              "      <th>955</th>\n",
              "      <td>Tanzania</td>\n",
              "      <td>1983</td>\n",
              "      <td>46.199</td>\n",
              "      <td>15.149</td>\n",
              "      <td>6.580</td>\n",
              "      <td>52.508</td>\n",
              "      <td>49.227</td>\n",
              "      <td>50.827488</td>\n",
              "      <td>3.143771</td>\n",
              "      <td>19898033.0</td>\n",
              "      <td>0.0</td>\n",
              "      <td>0.000000</td>\n",
              "      <td>330000.0</td>\n",
              "      <td>37.254459</td>\n",
              "      <td>885800.0</td>\n",
              "      <td>16831945</td>\n",
              "      <td>2.633205</td>\n",
              "      <td>947300.0</td>\n",
              "      <td>22.463347</td>\n",
              "      <td>15.409</td>\n",
              "      <td>5.994041</td>\n",
              "    </tr>\n",
              "    <tr>\n",
              "      <th>956</th>\n",
              "      <td>Tanzania</td>\n",
              "      <td>1984</td>\n",
              "      <td>45.939</td>\n",
              "      <td>15.029</td>\n",
              "      <td>6.542</td>\n",
              "      <td>52.645</td>\n",
              "      <td>49.368</td>\n",
              "      <td>50.966537</td>\n",
              "      <td>3.139727</td>\n",
              "      <td>20532688.0</td>\n",
              "      <td>0.0</td>\n",
              "      <td>0.000000</td>\n",
              "      <td>330000.0</td>\n",
              "      <td>37.254459</td>\n",
              "      <td>885800.0</td>\n",
              "      <td>17278052</td>\n",
              "      <td>2.615846</td>\n",
              "      <td>947300.0</td>\n",
              "      <td>23.179824</td>\n",
              "      <td>15.851</td>\n",
              "      <td>5.967796</td>\n",
              "    </tr>\n",
              "    <tr>\n",
              "      <th>...</th>\n",
              "      <td>...</td>\n",
              "      <td>...</td>\n",
              "      <td>...</td>\n",
              "      <td>...</td>\n",
              "      <td>...</td>\n",
              "      <td>...</td>\n",
              "      <td>...</td>\n",
              "      <td>...</td>\n",
              "      <td>...</td>\n",
              "      <td>...</td>\n",
              "      <td>...</td>\n",
              "      <td>...</td>\n",
              "      <td>...</td>\n",
              "      <td>...</td>\n",
              "      <td>...</td>\n",
              "      <td>...</td>\n",
              "      <td>...</td>\n",
              "      <td>...</td>\n",
              "      <td>...</td>\n",
              "      <td>...</td>\n",
              "      <td>...</td>\n",
              "    </tr>\n",
              "    <tr>\n",
              "      <th>3293</th>\n",
              "      <td>Uganda</td>\n",
              "      <td>2009</td>\n",
              "      <td>45.573</td>\n",
              "      <td>11.106</td>\n",
              "      <td>6.338</td>\n",
              "      <td>56.259</td>\n",
              "      <td>55.020</td>\n",
              "      <td>55.624390</td>\n",
              "      <td>3.360077</td>\n",
              "      <td>31778799.0</td>\n",
              "      <td>8554864.0</td>\n",
              "      <td>26.920036</td>\n",
              "      <td>137620.0</td>\n",
              "      <td>68.875432</td>\n",
              "      <td>199810.0</td>\n",
              "      <td>27364088</td>\n",
              "      <td>3.021542</td>\n",
              "      <td>241550.0</td>\n",
              "      <td>159.045088</td>\n",
              "      <td>13.892</td>\n",
              "      <td>5.484407</td>\n",
              "    </tr>\n",
              "    <tr>\n",
              "      <th>3294</th>\n",
              "      <td>Uganda</td>\n",
              "      <td>2010</td>\n",
              "      <td>45.115</td>\n",
              "      <td>10.655</td>\n",
              "      <td>6.248</td>\n",
              "      <td>57.258</td>\n",
              "      <td>55.762</td>\n",
              "      <td>56.491756</td>\n",
              "      <td>3.358844</td>\n",
              "      <td>32864328.0</td>\n",
              "      <td>9383734.0</td>\n",
              "      <td>28.552947</td>\n",
              "      <td>139120.0</td>\n",
              "      <td>69.626145</td>\n",
              "      <td>199810.0</td>\n",
              "      <td>28201209</td>\n",
              "      <td>3.013335</td>\n",
              "      <td>241550.0</td>\n",
              "      <td>164.477894</td>\n",
              "      <td>14.189</td>\n",
              "      <td>5.474216</td>\n",
              "    </tr>\n",
              "    <tr>\n",
              "      <th>3295</th>\n",
              "      <td>Uganda</td>\n",
              "      <td>2011</td>\n",
              "      <td>44.639</td>\n",
              "      <td>10.239</td>\n",
              "      <td>6.155</td>\n",
              "      <td>58.198</td>\n",
              "      <td>56.438</td>\n",
              "      <td>57.296537</td>\n",
              "      <td>3.359655</td>\n",
              "      <td>33987213.0</td>\n",
              "      <td>12828264.0</td>\n",
              "      <td>37.744383</td>\n",
              "      <td>140620.0</td>\n",
              "      <td>70.376858</td>\n",
              "      <td>199810.0</td>\n",
              "      <td>29061786</td>\n",
              "      <td>3.005927</td>\n",
              "      <td>241550.0</td>\n",
              "      <td>170.097658</td>\n",
              "      <td>14.492</td>\n",
              "      <td>5.472643</td>\n",
              "    </tr>\n",
              "    <tr>\n",
              "      <th>3296</th>\n",
              "      <td>Uganda</td>\n",
              "      <td>2012</td>\n",
              "      <td>44.152</td>\n",
              "      <td>9.865</td>\n",
              "      <td>6.060</td>\n",
              "      <td>59.045</td>\n",
              "      <td>57.039</td>\n",
              "      <td>58.017537</td>\n",
              "      <td>3.358517</td>\n",
              "      <td>35148064.0</td>\n",
              "      <td>16696992.0</td>\n",
              "      <td>47.504727</td>\n",
              "      <td>140620.0</td>\n",
              "      <td>70.376858</td>\n",
              "      <td>199810.0</td>\n",
              "      <td>29946151</td>\n",
              "      <td>2.997669</td>\n",
              "      <td>241550.0</td>\n",
              "      <td>175.907432</td>\n",
              "      <td>14.800</td>\n",
              "      <td>5.461547</td>\n",
              "    </tr>\n",
              "    <tr>\n",
              "      <th>3297</th>\n",
              "      <td>Uganda</td>\n",
              "      <td>2013</td>\n",
              "      <td>43.654</td>\n",
              "      <td>9.534</td>\n",
              "      <td>5.964</td>\n",
              "      <td>59.783</td>\n",
              "      <td>57.567</td>\n",
              "      <td>58.647976</td>\n",
              "      <td>3.351077</td>\n",
              "      <td>36345860.0</td>\n",
              "      <td>16356387.0</td>\n",
              "      <td>45.002064</td>\n",
              "      <td>142620.0</td>\n",
              "      <td>71.377809</td>\n",
              "      <td>199810.0</td>\n",
              "      <td>30852183</td>\n",
              "      <td>2.980671</td>\n",
              "      <td>241550.0</td>\n",
              "      <td>181.902107</td>\n",
              "      <td>15.115</td>\n",
              "      <td>5.457135</td>\n",
              "    </tr>\n",
              "  </tbody>\n",
              "</table>\n",
              "<p>136 rows × 21 columns</p>\n",
              "</div>"
            ],
            "text/plain": [
              "       country  year  ...  urban_population_percent  urban_population_percent_growth\n",
              "952   Tanzania  1980  ...                    14.141                         6.584829\n",
              "953   Tanzania  1981  ...                    14.555                         6.009932\n",
              "954   Tanzania  1982  ...                    14.976                         5.987982\n",
              "955   Tanzania  1983  ...                    15.409                         5.994041\n",
              "956   Tanzania  1984  ...                    15.851                         5.967796\n",
              "...        ...   ...  ...                       ...                              ...\n",
              "3293    Uganda  2009  ...                    13.892                         5.484407\n",
              "3294    Uganda  2010  ...                    14.189                         5.474216\n",
              "3295    Uganda  2011  ...                    14.492                         5.472643\n",
              "3296    Uganda  2012  ...                    14.800                         5.461547\n",
              "3297    Uganda  2013  ...                    15.115                         5.457135\n",
              "\n",
              "[136 rows x 21 columns]"
            ]
          },
          "metadata": {
            "tags": []
          },
          "execution_count": 69
        }
      ]
    },
    {
      "cell_type": "code",
      "metadata": {
        "id": "IXAoD0GAgar1",
        "colab_type": "code",
        "outputId": "4525e9b8-0b96-4a23-ad0e-6263b0474566",
        "colab": {
          "base_uri": "https://localhost:8080/",
          "height": 297
        }
      },
      "source": [
        "# Find outliers in each column\n",
        "import seaborn as sns\n",
        "sns.boxplot(x = globalEA['birth_rate'])"
      ],
      "execution_count": 70,
      "outputs": [
        {
          "output_type": "execute_result",
          "data": {
            "text/plain": [
              "<matplotlib.axes._subplots.AxesSubplot at 0x7f5f06a942b0>"
            ]
          },
          "metadata": {
            "tags": []
          },
          "execution_count": 70
        },
        {
          "output_type": "display_data",
          "data": {
            "image/png": "[encoded data removed]",
            "text/plain": [
              "<Figure size 432x288 with 1 Axes>"
            ]
          },
          "metadata": {
            "tags": []
          }
        }
      ]
    },
    {
      "cell_type": "code",
      "metadata": {
        "id": "Y5EIQN8yJ0d4",
        "colab_type": "code",
        "outputId": "faed2c3b-b8f1-4132-fa74-ff3908f2f4c8",
        "colab": {
          "base_uri": "https://localhost:8080/",
          "height": 297
        }
      },
      "source": [
        "import seaborn as sns\n",
        "sns.boxplot(x = globalEA['death_rate'])"
      ],
      "execution_count": 71,
      "outputs": [
        {
          "output_type": "execute_result",
          "data": {
            "text/plain": [
              "<matplotlib.axes._subplots.AxesSubplot at 0x7f5f06a050b8>"
            ]
          },
          "metadata": {
            "tags": []
          },
          "execution_count": 71
        },
        {
          "output_type": "display_data",
          "data": {
            "image/png": "[encoded data removed]",
            "text/plain": [
              "<Figure size 432x288 with 1 Axes>"
            ]
          },
          "metadata": {
            "tags": []
          }
        }
      ]
    },
    {
      "cell_type": "code",
      "metadata": {
        "id": "mktx4I_0J_CI",
        "colab_type": "code",
        "outputId": "2800e0d9-41f0-494b-9da2-f78d0ddb405b",
        "colab": {
          "base_uri": "https://localhost:8080/",
          "height": 297
        }
      },
      "source": [
        "import seaborn as sns\n",
        "sns.boxplot(x = globalEA['fertility_rate'])"
      ],
      "execution_count": 72,
      "outputs": [
        {
          "output_type": "execute_result",
          "data": {
            "text/plain": [
              "<matplotlib.axes._subplots.AxesSubplot at 0x7f5f069e7d68>"
            ]
          },
          "metadata": {
            "tags": []
          },
          "execution_count": 72
        },
        {
          "output_type": "display_data",
          "data": {
            "image/png": "[encoded data removed]",
            "text/plain": [
              "<Figure size 432x288 with 1 Axes>"
            ]
          },
          "metadata": {
            "tags": []
          }
        }
      ]
    },
    {
      "cell_type": "code",
      "metadata": {
        "id": "XMow0XV3KLH9",
        "colab_type": "code",
        "outputId": "e4258fbd-7597-4ba5-bae4-64ea7edfcf7a",
        "colab": {
          "base_uri": "https://localhost:8080/",
          "height": 297
        }
      },
      "source": [
        "import seaborn as sns\n",
        "sns.boxplot(x = globalEA['female_expectancy_at_birth'])"
      ],
      "execution_count": 73,
      "outputs": [
        {
          "output_type": "execute_result",
          "data": {
            "text/plain": [
              "<matplotlib.axes._subplots.AxesSubplot at 0x7f5f06958748>"
            ]
          },
          "metadata": {
            "tags": []
          },
          "execution_count": 73
        },
        {
          "output_type": "display_data",
          "data": {
            "image/png": "[encoded data removed]",
            "text/plain": [
              "<Figure size 432x288 with 1 Axes>"
            ]
          },
          "metadata": {
            "tags": []
          }
        }
      ]
    },
    {
      "cell_type": "code",
      "metadata": {
        "id": "K-U6yYaLKhqz",
        "colab_type": "code",
        "outputId": "c0103beb-a1f3-4050-f266-eddc5734beb8",
        "colab": {
          "base_uri": "https://localhost:8080/",
          "height": 297
        }
      },
      "source": [
        "import seaborn as sns\n",
        "sns.boxplot(x = globalEA['male_expectancy_at_birth'])"
      ],
      "execution_count": 74,
      "outputs": [
        {
          "output_type": "execute_result",
          "data": {
            "text/plain": [
              "<matplotlib.axes._subplots.AxesSubplot at 0x7f5f06a1da90>"
            ]
          },
          "metadata": {
            "tags": []
          },
          "execution_count": 74
        },
        {
          "output_type": "display_data",
          "data": {
            "image/png": "[encoded data removed]",
            "text/plain": [
              "<Figure size 432x288 with 1 Axes>"
            ]
          },
          "metadata": {
            "tags": []
          }
        }
      ]
    },
    {
      "cell_type": "code",
      "metadata": {
        "id": "qAfiYnN3K34M",
        "colab_type": "code",
        "outputId": "42ea6813-973f-4e85-a8e2-5af8dbbd8a7e",
        "colab": {
          "base_uri": "https://localhost:8080/",
          "height": 297
        }
      },
      "source": [
        "import seaborn as sns\n",
        "sns.boxplot(x = globalEA['total_expectancy_at_birth'])"
      ],
      "execution_count": 31,
      "outputs": [
        {
          "output_type": "execute_result",
          "data": {
            "text/plain": [
              "<matplotlib.axes._subplots.AxesSubplot at 0x7f5f072f4240>"
            ]
          },
          "metadata": {
            "tags": []
          },
          "execution_count": 31
        },
        {
          "output_type": "display_data",
          "data": {
            "image/png": "[encoded data removed]",
            "text/plain": [
              "<Figure size 432x288 with 1 Axes>"
            ]
          },
          "metadata": {
            "tags": []
          }
        }
      ]
    },
    {
      "cell_type": "code",
      "metadata": {
        "id": "Y9ExbNQeLAA_",
        "colab_type": "code",
        "outputId": "c3214890-f26e-459b-d297-d1d707d5bbae",
        "colab": {
          "base_uri": "https://localhost:8080/",
          "height": 297
        }
      },
      "source": [
        "import seaborn as sns\n",
        "sns.boxplot(x = globalEA['population_growth'])"
      ],
      "execution_count": 32,
      "outputs": [
        {
          "output_type": "execute_result",
          "data": {
            "text/plain": [
              "<matplotlib.axes._subplots.AxesSubplot at 0x7f5f072e4b00>"
            ]
          },
          "metadata": {
            "tags": []
          },
          "execution_count": 32
        },
        {
          "output_type": "display_data",
          "data": {
            "image/png": "[encoded data removed]",
            "text/plain": [
              "<Figure size 432x288 with 1 Axes>"
            ]
          },
          "metadata": {
            "tags": []
          }
        }
      ]
    },
    {
      "cell_type": "code",
      "metadata": {
        "id": "tbR7kSwyLSIO",
        "colab_type": "code",
        "outputId": "52335cc4-a6f2-4375-923f-5dbe598d32e1",
        "colab": {
          "base_uri": "https://localhost:8080/",
          "height": 297
        }
      },
      "source": [
        "import seaborn as sns\n",
        "sns.boxplot(x = globalEA['total_population'])"
      ],
      "execution_count": 33,
      "outputs": [
        {
          "output_type": "execute_result",
          "data": {
            "text/plain": [
              "<matplotlib.axes._subplots.AxesSubplot at 0x7f5f07248320>"
            ]
          },
          "metadata": {
            "tags": []
          },
          "execution_count": 33
        },
        {
          "output_type": "display_data",
          "data": {
            "image/png": "[encoded data removed]",
            "text/plain": [
              "<Figure size 432x288 with 1 Axes>"
            ]
          },
          "metadata": {
            "tags": []
          }
        }
      ]
    },
    {
      "cell_type": "code",
      "metadata": {
        "id": "L9TLw2QHLYM8",
        "colab_type": "code",
        "outputId": "0a96eda6-8895-49df-b362-909e842f9ef6",
        "colab": {
          "base_uri": "https://localhost:8080/",
          "height": 297
        }
      },
      "source": [
        "import seaborn as sns\n",
        "sns.boxplot(x = globalEA['cellular_subscriptions'])"
      ],
      "execution_count": 34,
      "outputs": [
        {
          "output_type": "execute_result",
          "data": {
            "text/plain": [
              "<matplotlib.axes._subplots.AxesSubplot at 0x7f5f07219208>"
            ]
          },
          "metadata": {
            "tags": []
          },
          "execution_count": 34
        },
        {
          "output_type": "display_data",
          "data": {
            "image/png": "[encoded data removed]",
            "text/plain": [
              "<Figure size 432x288 with 1 Axes>"
            ]
          },
          "metadata": {
            "tags": []
          }
        }
      ]
    },
    {
      "cell_type": "code",
      "metadata": {
        "id": "SkACed33LpJZ",
        "colab_type": "code",
        "outputId": "c1d1062a-561e-4471-f295-936b8d1f5f5c",
        "colab": {
          "base_uri": "https://localhost:8080/",
          "height": 297
        }
      },
      "source": [
        "import seaborn as sns\n",
        "sns.boxplot(x = globalEA['rural_agricultural_land'])"
      ],
      "execution_count": 35,
      "outputs": [
        {
          "output_type": "execute_result",
          "data": {
            "text/plain": [
              "<matplotlib.axes._subplots.AxesSubplot at 0x7f5f071f2f28>"
            ]
          },
          "metadata": {
            "tags": []
          },
          "execution_count": 35
        },
        {
          "output_type": "display_data",
          "data": {
            "image/png": "[encoded data removed]",
            "text/plain": [
              "<Figure size 432x288 with 1 Axes>"
            ]
          },
          "metadata": {
            "tags": []
          }
        }
      ]
    },
    {
      "cell_type": "code",
      "metadata": {
        "id": "0qUzHF0iL0X4",
        "colab_type": "code",
        "outputId": "586a688d-4b86-418c-a8ca-fb8ba4e0c40c",
        "colab": {
          "base_uri": "https://localhost:8080/",
          "height": 297
        }
      },
      "source": [
        "import seaborn as sns\n",
        "sns.boxplot(x = globalEA['rural_agricultural_land_percent'])"
      ],
      "execution_count": 36,
      "outputs": [
        {
          "output_type": "execute_result",
          "data": {
            "text/plain": [
              "<matplotlib.axes._subplots.AxesSubplot at 0x7f5f07159c18>"
            ]
          },
          "metadata": {
            "tags": []
          },
          "execution_count": 36
        },
        {
          "output_type": "display_data",
          "data": {
            "image/png": "[encoded data removed]",
            "text/plain": [
              "<Figure size 432x288 with 1 Axes>"
            ]
          },
          "metadata": {
            "tags": []
          }
        }
      ]
    },
    {
      "cell_type": "code",
      "metadata": {
        "id": "ZW7sqpGcL6ar",
        "colab_type": "code",
        "outputId": "4b0b3175-dab8-444e-e42a-28afa1988946",
        "colab": {
          "base_uri": "https://localhost:8080/",
          "height": 297
        }
      },
      "source": [
        "import seaborn as sns\n",
        "sns.boxplot(x = globalEA['rural_land_area'])"
      ],
      "execution_count": 37,
      "outputs": [
        {
          "output_type": "execute_result",
          "data": {
            "text/plain": [
              "<matplotlib.axes._subplots.AxesSubplot at 0x7f5f070be470>"
            ]
          },
          "metadata": {
            "tags": []
          },
          "execution_count": 37
        },
        {
          "output_type": "display_data",
          "data": {
            "image/png": "[encoded data removed]",
            "text/plain": [
              "<Figure size 432x288 with 1 Axes>"
            ]
          },
          "metadata": {
            "tags": []
          }
        }
      ]
    },
    {
      "cell_type": "code",
      "metadata": {
        "id": "m0h7GadXMKRU",
        "colab_type": "code",
        "outputId": "c37cb52c-d570-4c4c-c70d-38e541883575",
        "colab": {
          "base_uri": "https://localhost:8080/",
          "height": 297
        }
      },
      "source": [
        "import seaborn as sns\n",
        "sns.boxplot(x = globalEA['rural_population'])"
      ],
      "execution_count": 38,
      "outputs": [
        {
          "output_type": "execute_result",
          "data": {
            "text/plain": [
              "<matplotlib.axes._subplots.AxesSubplot at 0x7f5f070b1f60>"
            ]
          },
          "metadata": {
            "tags": []
          },
          "execution_count": 38
        },
        {
          "output_type": "display_data",
          "data": {
            "image/png": "[encoded data removed]",
            "text/plain": [
              "<Figure size 432x288 with 1 Axes>"
            ]
          },
          "metadata": {
            "tags": []
          }
        }
      ]
    },
    {
      "cell_type": "code",
      "metadata": {
        "id": "6PmZGsD7MShl",
        "colab_type": "code",
        "outputId": "55ebb034-3cd4-41b4-b0a3-afbb0d799fd9",
        "colab": {
          "base_uri": "https://localhost:8080/",
          "height": 297
        }
      },
      "source": [
        "import seaborn as sns\n",
        "sns.boxplot(x = globalEA['rural_population_growth'])"
      ],
      "execution_count": 39,
      "outputs": [
        {
          "output_type": "execute_result",
          "data": {
            "text/plain": [
              "<matplotlib.axes._subplots.AxesSubplot at 0x7f5f07014cf8>"
            ]
          },
          "metadata": {
            "tags": []
          },
          "execution_count": 39
        },
        {
          "output_type": "display_data",
          "data": {
            "image/png": "[encoded data removed]",
            "text/plain": [
              "<Figure size 432x288 with 1 Axes>"
            ]
          },
          "metadata": {
            "tags": []
          }
        }
      ]
    },
    {
      "cell_type": "code",
      "metadata": {
        "id": "rgHEs7cLMYmM",
        "colab_type": "code",
        "outputId": "9e62331f-8bae-466e-91b7-a015e719c57d",
        "colab": {
          "base_uri": "https://localhost:8080/",
          "height": 297
        }
      },
      "source": [
        "import seaborn as sns\n",
        "sns.boxplot(x = globalEA['rural_surface_area'])"
      ],
      "execution_count": 40,
      "outputs": [
        {
          "output_type": "execute_result",
          "data": {
            "text/plain": [
              "<matplotlib.axes._subplots.AxesSubplot at 0x7f5f06f83748>"
            ]
          },
          "metadata": {
            "tags": []
          },
          "execution_count": 40
        },
        {
          "output_type": "display_data",
          "data": {
            "image/png": "[encoded data removed]",
            "text/plain": [
              "<Figure size 432x288 with 1 Axes>"
            ]
          },
          "metadata": {
            "tags": []
          }
        }
      ]
    },
    {
      "cell_type": "code",
      "metadata": {
        "id": "ylHuFQvdMg9N",
        "colab_type": "code",
        "outputId": "2638d120-d4b3-46a2-de6d-1341f3b6d3bc",
        "colab": {
          "base_uri": "https://localhost:8080/",
          "height": 297
        }
      },
      "source": [
        "import seaborn as sns\n",
        "sns.boxplot(x = globalEA['urban_population_density'])"
      ],
      "execution_count": 41,
      "outputs": [
        {
          "output_type": "execute_result",
          "data": {
            "text/plain": [
              "<matplotlib.axes._subplots.AxesSubplot at 0x7f5f06f5e438>"
            ]
          },
          "metadata": {
            "tags": []
          },
          "execution_count": 41
        },
        {
          "output_type": "display_data",
          "data": {
            "image/png": "[encoded data removed]",
            "text/plain": [
              "<Figure size 432x288 with 1 Axes>"
            ]
          },
          "metadata": {
            "tags": []
          }
        }
      ]
    },
    {
      "cell_type": "code",
      "metadata": {
        "id": "waxqI7eqMnzO",
        "colab_type": "code",
        "outputId": "46d9a052-3f17-4374-8266-c7988d48dcbc",
        "colab": {
          "base_uri": "https://localhost:8080/",
          "height": 297
        }
      },
      "source": [
        "import seaborn as sns\n",
        "sns.boxplot(x = globalEA['urban_population_percent'])"
      ],
      "execution_count": 42,
      "outputs": [
        {
          "output_type": "execute_result",
          "data": {
            "text/plain": [
              "<matplotlib.axes._subplots.AxesSubplot at 0x7f5f06ebdcc0>"
            ]
          },
          "metadata": {
            "tags": []
          },
          "execution_count": 42
        },
        {
          "output_type": "display_data",
          "data": {
            "image/png": "[encoded data removed]",
            "text/plain": [
              "<Figure size 432x288 with 1 Axes>"
            ]
          },
          "metadata": {
            "tags": []
          }
        }
      ]
    },
    {
      "cell_type": "code",
      "metadata": {
        "id": "ndV9JLHBMtcp",
        "colab_type": "code",
        "outputId": "36d2d563-6c13-452e-8078-17a35f002a68",
        "colab": {
          "base_uri": "https://localhost:8080/",
          "height": 297
        }
      },
      "source": [
        "import seaborn as sns\n",
        "sns.boxplot(x = globalEA['urban_population_percent_growth'])"
      ],
      "execution_count": 43,
      "outputs": [
        {
          "output_type": "execute_result",
          "data": {
            "text/plain": [
              "<matplotlib.axes._subplots.AxesSubplot at 0x7f5f06e974e0>"
            ]
          },
          "metadata": {
            "tags": []
          },
          "execution_count": 43
        },
        {
          "output_type": "display_data",
          "data": {
            "image/png": "[encoded data removed]",
            "text/plain": [
              "<Figure size 432x288 with 1 Axes>"
            ]
          },
          "metadata": {
            "tags": []
          }
        }
      ]
    },
    {
      "cell_type": "markdown",
      "metadata": {
        "id": "VzZTayu_4UXW",
        "colab_type": "text"
      },
      "source": [
        "# **Analysis**"
      ]
    },
    {
      "cell_type": "code",
      "metadata": {
        "id": "ixP3uwrW7NeA",
        "colab_type": "code",
        "colab": {}
      },
      "source": [
        ""
      ],
      "execution_count": 0,
      "outputs": []
    },
    {
      "cell_type": "markdown",
      "metadata": {
        "id": "OSXl2yTj4fLB",
        "colab_type": "text"
      },
      "source": [
        "Identify the rate of growth between Kenya. Rwanda, Tz and UG"
      ]
    },
    {
      "cell_type": "code",
      "metadata": {
        "id": "_JhNqAxE4T0-",
        "colab_type": "code",
        "colab": {
          "base_uri": "https://localhost:8080/",
          "height": 297
        },
        "outputId": "3611245b-7c3d-40ab-ce60-e6e66bcf66cb"
      },
      "source": [
        "x = globalEA[['country','year','total_population']]\n",
        "t = x[\"year\"].isin([2000]) | x[\"year\"].isin([2013])\n",
        "x[t].reset_index().drop(columns='index')"
      ],
      "execution_count": 76,
      "outputs": [
        {
          "output_type": "execute_result",
          "data": {
            "text/html": [
              "<div>\n",
              "<style scoped>\n",
              "    .dataframe tbody tr th:only-of-type {\n",
              "        vertical-align: middle;\n",
              "    }\n",
              "\n",
              "    .dataframe tbody tr th {\n",
              "        vertical-align: top;\n",
              "    }\n",
              "\n",
              "    .dataframe thead th {\n",
              "        text-align: right;\n",
              "    }\n",
              "</style>\n",
              "<table border=\"1\" class=\"dataframe\">\n",
              "  <thead>\n",
              "    <tr style=\"text-align: right;\">\n",
              "      <th></th>\n",
              "      <th>country</th>\n",
              "      <th>year</th>\n",
              "      <th>total_population</th>\n",
              "    </tr>\n",
              "  </thead>\n",
              "  <tbody>\n",
              "    <tr>\n",
              "      <th>0</th>\n",
              "      <td>Tanzania</td>\n",
              "      <td>2000</td>\n",
              "      <td>33183093.0</td>\n",
              "    </tr>\n",
              "    <tr>\n",
              "      <th>1</th>\n",
              "      <td>Tanzania</td>\n",
              "      <td>2013</td>\n",
              "      <td>47783107.0</td>\n",
              "    </tr>\n",
              "    <tr>\n",
              "      <th>2</th>\n",
              "      <td>Rwanda</td>\n",
              "      <td>2000</td>\n",
              "      <td>7853015.0</td>\n",
              "    </tr>\n",
              "    <tr>\n",
              "      <th>3</th>\n",
              "      <td>Rwanda</td>\n",
              "      <td>2013</td>\n",
              "      <td>11457801.0</td>\n",
              "    </tr>\n",
              "    <tr>\n",
              "      <th>4</th>\n",
              "      <td>Kenya</td>\n",
              "      <td>2000</td>\n",
              "      <td>30478597.0</td>\n",
              "    </tr>\n",
              "    <tr>\n",
              "      <th>5</th>\n",
              "      <td>Kenya</td>\n",
              "      <td>2013</td>\n",
              "      <td>43178141.0</td>\n",
              "    </tr>\n",
              "    <tr>\n",
              "      <th>6</th>\n",
              "      <td>Uganda</td>\n",
              "      <td>2000</td>\n",
              "      <td>23507800.0</td>\n",
              "    </tr>\n",
              "    <tr>\n",
              "      <th>7</th>\n",
              "      <td>Uganda</td>\n",
              "      <td>2013</td>\n",
              "      <td>36345860.0</td>\n",
              "    </tr>\n",
              "  </tbody>\n",
              "</table>\n",
              "</div>"
            ],
            "text/plain": [
              "    country  year  total_population\n",
              "0  Tanzania  2000        33183093.0\n",
              "1  Tanzania  2013        47783107.0\n",
              "2    Rwanda  2000         7853015.0\n",
              "3    Rwanda  2013        11457801.0\n",
              "4     Kenya  2000        30478597.0\n",
              "5     Kenya  2013        43178141.0\n",
              "6    Uganda  2000        23507800.0\n",
              "7    Uganda  2013        36345860.0"
            ]
          },
          "metadata": {
            "tags": []
          },
          "execution_count": 76
        }
      ]
    },
    {
      "cell_type": "code",
      "metadata": {
        "id": "ib6QazLa4kAy",
        "colab_type": "code",
        "colab": {
          "base_uri": "https://localhost:8080/",
          "height": 102
        },
        "outputId": "eaddabf0-9c49-41e8-f071-22ff69455330"
      },
      "source": [
        "# Find the difference between in total population bewteen 2000 and 2013 for the four countries\n",
        "globalEA_20= globalEA[(globalEA['year'] == 2000)]\n",
        "globalEA_23= globalEA[(globalEA['year'] == 2013)]\n",
        "tr=globalEA_20['total_population'].reset_index(drop=True)\n",
        "mr=globalEA_23['total_population'].reset_index(drop=True)\n",
        "pq=mr-tr\n",
        "percent=(pq*100)/tr\n",
        "percent"
      ],
      "execution_count": 77,
      "outputs": [
        {
          "output_type": "execute_result",
          "data": {
            "text/plain": [
              "0    43.998352\n",
              "1    45.903210\n",
              "2    41.667089\n",
              "3    54.611916\n",
              "Name: total_population, dtype: float64"
            ]
          },
          "metadata": {
            "tags": []
          },
          "execution_count": 77
        }
      ]
    },
    {
      "cell_type": "code",
      "metadata": {
        "id": "YTkY0OQ974jO",
        "colab_type": "code",
        "colab": {}
      },
      "source": [
        ""
      ],
      "execution_count": 0,
      "outputs": []
    },
    {
      "cell_type": "code",
      "metadata": {
        "id": "3SiqvENW4xa6",
        "colab_type": "code",
        "colab": {
          "base_uri": "https://localhost:8080/",
          "height": 1000
        },
        "outputId": "3bb61fee-fc69-46db-e125-22a1a471ee72"
      },
      "source": [
        "import warnings\n",
        "warnings.filterwarnings(\"ignore\", category=UserWarning)\n",
        "\n",
        "years = list(range(2000,2014))\n",
        "ppn = globalEA[globalEA.year.isin(years)]\n",
        "ppn =ppn.fillna(0)\n",
        "print((ggplot(ppn,aes(x = 'year',y = 'total_population',color = \"country\"))\n",
        " +geom_line()+labs(title =\"East African Countries Population Growth\")))\n",
        "\n",
        "j = pd.pivot_table(ppn[['country',\"year\",\"total_population\"]],\n",
        "               index = [\"year\"],columns =['country'],values = [\"total_population\"])\n",
        "j"
      ],
      "execution_count": 97,
      "outputs": [
        {
          "output_type": "display_data",
          "data": {
            "image/png": "[encoded data removed]",
            "text/plain": [
              "<Figure size 640x480 with 1 Axes>"
            ]
          },
          "metadata": {
            "tags": []
          }
        },
        {
          "output_type": "stream",
          "text": [
            "<ggplot: (-9223363283988651260)>\n"
          ],
          "name": "stdout"
        },
        {
          "output_type": "execute_result",
          "data": {
            "text/html": [
              "<div>\n",
              "<style scoped>\n",
              "    .dataframe tbody tr th:only-of-type {\n",
              "        vertical-align: middle;\n",
              "    }\n",
              "\n",
              "    .dataframe tbody tr th {\n",
              "        vertical-align: top;\n",
              "    }\n",
              "\n",
              "    .dataframe thead tr th {\n",
              "        text-align: left;\n",
              "    }\n",
              "\n",
              "    .dataframe thead tr:last-of-type th {\n",
              "        text-align: right;\n",
              "    }\n",
              "</style>\n",
              "<table border=\"1\" class=\"dataframe\">\n",
              "  <thead>\n",
              "    <tr>\n",
              "      <th></th>\n",
              "      <th colspan=\"4\" halign=\"left\">total_population</th>\n",
              "    </tr>\n",
              "    <tr>\n",
              "      <th>country</th>\n",
              "      <th>Kenya</th>\n",
              "      <th>Rwanda</th>\n",
              "      <th>Tanzania</th>\n",
              "      <th>Uganda</th>\n",
              "    </tr>\n",
              "    <tr>\n",
              "      <th>year</th>\n",
              "      <th></th>\n",
              "      <th></th>\n",
              "      <th></th>\n",
              "      <th></th>\n",
              "    </tr>\n",
              "  </thead>\n",
              "  <tbody>\n",
              "    <tr>\n",
              "      <th>2000</th>\n",
              "      <td>30478597.0</td>\n",
              "      <td>7853015.0</td>\n",
              "      <td>33183093.0</td>\n",
              "      <td>23507800.0</td>\n",
              "    </tr>\n",
              "    <tr>\n",
              "      <th>2001</th>\n",
              "      <td>31285050.0</td>\n",
              "      <td>8395577.0</td>\n",
              "      <td>34020512.0</td>\n",
              "      <td>24275641.0</td>\n",
              "    </tr>\n",
              "    <tr>\n",
              "      <th>2002</th>\n",
              "      <td>32126351.0</td>\n",
              "      <td>8760003.0</td>\n",
              "      <td>34895398.0</td>\n",
              "      <td>25088033.0</td>\n",
              "    </tr>\n",
              "    <tr>\n",
              "      <th>2003</th>\n",
              "      <td>33000524.0</td>\n",
              "      <td>8987523.0</td>\n",
              "      <td>35806497.0</td>\n",
              "      <td>25943441.0</td>\n",
              "    </tr>\n",
              "    <tr>\n",
              "      <th>2004</th>\n",
              "      <td>33905011.0</td>\n",
              "      <td>9126167.0</td>\n",
              "      <td>36760831.0</td>\n",
              "      <td>26838428.0</td>\n",
              "    </tr>\n",
              "    <tr>\n",
              "      <th>2005</th>\n",
              "      <td>34834606.0</td>\n",
              "      <td>9254379.0</td>\n",
              "      <td>37765139.0</td>\n",
              "      <td>27766986.0</td>\n",
              "    </tr>\n",
              "    <tr>\n",
              "      <th>2006</th>\n",
              "      <td>35785718.0</td>\n",
              "      <td>9429457.0</td>\n",
              "      <td>38824384.0</td>\n",
              "      <td>28724869.0</td>\n",
              "    </tr>\n",
              "    <tr>\n",
              "      <th>2007</th>\n",
              "      <td>36757498.0</td>\n",
              "      <td>9660946.0</td>\n",
              "      <td>39942347.0</td>\n",
              "      <td>29711397.0</td>\n",
              "    </tr>\n",
              "    <tr>\n",
              "      <th>2008</th>\n",
              "      <td>37752304.0</td>\n",
              "      <td>9928143.0</td>\n",
              "      <td>41119693.0</td>\n",
              "      <td>30728747.0</td>\n",
              "    </tr>\n",
              "    <tr>\n",
              "      <th>2009</th>\n",
              "      <td>38773277.0</td>\n",
              "      <td>10222961.0</td>\n",
              "      <td>42353790.0</td>\n",
              "      <td>31778799.0</td>\n",
              "    </tr>\n",
              "    <tr>\n",
              "      <th>2010</th>\n",
              "      <td>39824734.0</td>\n",
              "      <td>10529668.0</td>\n",
              "      <td>43639752.0</td>\n",
              "      <td>32864328.0</td>\n",
              "    </tr>\n",
              "    <tr>\n",
              "      <th>2011</th>\n",
              "      <td>40909194.0</td>\n",
              "      <td>10836732.0</td>\n",
              "      <td>44973330.0</td>\n",
              "      <td>33987213.0</td>\n",
              "    </tr>\n",
              "    <tr>\n",
              "      <th>2012</th>\n",
              "      <td>42027891.0</td>\n",
              "      <td>11144315.0</td>\n",
              "      <td>46354607.0</td>\n",
              "      <td>35148064.0</td>\n",
              "    </tr>\n",
              "    <tr>\n",
              "      <th>2013</th>\n",
              "      <td>43178141.0</td>\n",
              "      <td>11457801.0</td>\n",
              "      <td>47783107.0</td>\n",
              "      <td>36345860.0</td>\n",
              "    </tr>\n",
              "  </tbody>\n",
              "</table>\n",
              "</div>"
            ],
            "text/plain": [
              "        total_population                                    \n",
              "country            Kenya      Rwanda    Tanzania      Uganda\n",
              "year                                                        \n",
              "2000          30478597.0   7853015.0  33183093.0  23507800.0\n",
              "2001          31285050.0   8395577.0  34020512.0  24275641.0\n",
              "2002          32126351.0   8760003.0  34895398.0  25088033.0\n",
              "2003          33000524.0   8987523.0  35806497.0  25943441.0\n",
              "2004          33905011.0   9126167.0  36760831.0  26838428.0\n",
              "2005          34834606.0   9254379.0  37765139.0  27766986.0\n",
              "2006          35785718.0   9429457.0  38824384.0  28724869.0\n",
              "2007          36757498.0   9660946.0  39942347.0  29711397.0\n",
              "2008          37752304.0   9928143.0  41119693.0  30728747.0\n",
              "2009          38773277.0  10222961.0  42353790.0  31778799.0\n",
              "2010          39824734.0  10529668.0  43639752.0  32864328.0\n",
              "2011          40909194.0  10836732.0  44973330.0  33987213.0\n",
              "2012          42027891.0  11144315.0  46354607.0  35148064.0\n",
              "2013          43178141.0  11457801.0  47783107.0  36345860.0"
            ]
          },
          "metadata": {
            "tags": []
          },
          "execution_count": 97
        }
      ]
    },
    {
      "cell_type": "code",
      "metadata": {
        "id": "jn9GvoMhGXhW",
        "colab_type": "code",
        "colab": {
          "base_uri": "https://localhost:8080/",
          "height": 424
        },
        "outputId": "2263bd88-45e0-465f-b4d8-f8f7d61551f6"
      },
      "source": [
        "plt.style.use('ggplot')\n",
        "plt.figure(figsize = (10,6))\n",
        "plt.plot(j['total_population']['Kenya'],\"g--\",label =\"Kenya\")\n",
        "plt.plot(j['total_population']['Rwanda'],'r-*',label = \"Rwanda\")\n",
        "plt.plot(j['total_population']['Uganda'],'k-p',label = \"Uganda\")\n",
        "plt.plot(j['total_population']['Tanzania'],'c-',label = \"Tanzania\")\n",
        "plt.legend(loc='best')\n",
        "plt.title(\"EA Countries Population \\n 2000 - 2013\")\n",
        "plt.xlabel(\"Years\")\n",
        "plt.ylabel(\"ppn in 10 Millions\")\n",
        "plt.show()"
      ],
      "execution_count": 98,
      "outputs": [
        {
          "output_type": "display_data",
          "data": {
            "image/png": "[encoded data removed]",
            "text/plain": [
              "<Figure size 720x432 with 1 Axes>"
            ]
          },
          "metadata": {
            "tags": []
          }
        }
      ]
    },
    {
      "cell_type": "code",
      "metadata": {
        "id": "kzBcv5n45GTt",
        "colab_type": "code",
        "colab": {
          "base_uri": "https://localhost:8080/",
          "height": 170
        },
        "outputId": "3c81217e-f75e-4462-deea-f5fa392b4269"
      },
      "source": [
        "globalEA.columns"
      ],
      "execution_count": 79,
      "outputs": [
        {
          "output_type": "execute_result",
          "data": {
            "text/plain": [
              "Index(['country', 'year', 'birth_rate', 'death_rate', 'fertility_rate',\n",
              "       'female_expectancy_at_birth', 'male_expectancy_at_birth',\n",
              "       'total_expectancy_at_birth', 'population_growth', 'total_population',\n",
              "       'cellular_subscriptions', 'cellular_subscriptions_per_100_people',\n",
              "       'rural_agricultural_land', 'rural_agricultural_land_percent',\n",
              "       'rural_land_area', 'rural_population', 'rural_population_growth',\n",
              "       'rural_surface_area', 'urban_population_density',\n",
              "       'urban_population_percent', 'urban_population_percent_growth'],\n",
              "      dtype='object')"
            ]
          },
          "metadata": {
            "tags": []
          },
          "execution_count": 79
        }
      ]
    },
    {
      "cell_type": "code",
      "metadata": {
        "id": "d0xJc_2G5It0",
        "colab_type": "code",
        "colab": {}
      },
      "source": [
        ""
      ],
      "execution_count": 0,
      "outputs": []
    }
  ]
}