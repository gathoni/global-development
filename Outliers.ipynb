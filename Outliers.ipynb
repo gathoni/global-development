{
  "nbformat": 4,
  "nbformat_minor": 0,
  "metadata": {
    "colab": {
      "name": "Outliers",
      "provenance": [],
      "collapsed_sections": []
    },
    "kernelspec": {
      "name": "python3",
      "display_name": "Python 3"
    }
  },
  "cells": [
    {
      "cell_type": "code",
      "metadata": {
        "id": "v0sLC4oaUxNT",
        "colab_type": "code",
        "colab": {}
      },
      "source": [
        "import numpy as np\n",
        "import pandas as pd\n",
        "import seaborn as sns"
      ],
      "execution_count": 0,
      "outputs": []
    },
    {
      "cell_type": "code",
      "metadata": {
        "id": "KJFp4jHWVTSi",
        "colab_type": "code",
        "outputId": "0afbe296-15b2-44d5-ecf1-a65a7ba457a2",
        "colab": {
          "base_uri": "https://localhost:8080/",
          "height": 275
        }
      },
      "source": [
        "globalEA = pd.read_csv('globalEA.csv')\n",
        "globalEA.head()"
      ],
      "execution_count": 0,
      "outputs": [
        {
          "output_type": "execute_result",
          "data": {
            "text/html": [
              "<div>\n",
              "<style scoped>\n",
              "    .dataframe tbody tr th:only-of-type {\n",
              "        vertical-align: middle;\n",
              "    }\n",
              "\n",
              "    .dataframe tbody tr th {\n",
              "        vertical-align: top;\n",
              "    }\n",
              "\n",
              "    .dataframe thead th {\n",
              "        text-align: right;\n",
              "    }\n",
              "</style>\n",
              "<table border=\"1\" class=\"dataframe\">\n",
              "  <thead>\n",
              "    <tr style=\"text-align: right;\">\n",
              "      <th></th>\n",
              "      <th>Country</th>\n",
              "      <th>Year</th>\n",
              "      <th>Data.Health.Birth Rate</th>\n",
              "      <th>Data.Health.Death Rate</th>\n",
              "      <th>Data.Health.Fertility Rate</th>\n",
              "      <th>Data.Health.Life Expectancy at Birth, Female</th>\n",
              "      <th>Data.Health.Life Expectancy at Birth, Male</th>\n",
              "      <th>Data.Health.Life Expectancy at Birth, Total</th>\n",
              "      <th>Data.Health.Population Growth</th>\n",
              "      <th>Data.Health.Total Population</th>\n",
              "      <th>Data.Infrastructure.Mobile Cellular Subscriptions</th>\n",
              "      <th>Data.Infrastructure.Mobile Cellular Subscriptions per 100 People</th>\n",
              "      <th>Data.Infrastructure.Telephone Lines</th>\n",
              "      <th>Data.Infrastructure.Telephone Lines per 100 People</th>\n",
              "      <th>Data.Rural Development.Agricultural Land</th>\n",
              "      <th>Data.Rural Development.Agricultural Land Percent</th>\n",
              "      <th>Data.Rural Development.Arable Land</th>\n",
              "      <th>Data.Rural Development.Arable Land Percent</th>\n",
              "      <th>Data.Rural Development.Land Area</th>\n",
              "      <th>Data.Rural Development.Rural Population</th>\n",
              "      <th>Data.Rural Development.Rural Population Growth</th>\n",
              "      <th>Data.Rural Development.Surface Area</th>\n",
              "      <th>Data.Urban Development.Population Density</th>\n",
              "      <th>Data.Urban Development.Urban Population Percent</th>\n",
              "      <th>Data.Urban Development.Urban Population Percent Growth</th>\n",
              "    </tr>\n",
              "  </thead>\n",
              "  <tbody>\n",
              "    <tr>\n",
              "      <th>0</th>\n",
              "      <td>Kenya</td>\n",
              "      <td>1980</td>\n",
              "      <td>49.646</td>\n",
              "      <td>11.855</td>\n",
              "      <td>7.538</td>\n",
              "      <td>59.263</td>\n",
              "      <td>55.376</td>\n",
              "      <td>57.272098</td>\n",
              "      <td>3.772363</td>\n",
              "      <td>15661480.0</td>\n",
              "      <td>0.0</td>\n",
              "      <td>0.0</td>\n",
              "      <td>69700.0</td>\n",
              "      <td>0.445041</td>\n",
              "      <td>255800.0</td>\n",
              "      <td>44.945005</td>\n",
              "      <td>0.242634</td>\n",
              "      <td>6.67674</td>\n",
              "      <td>569140.0</td>\n",
              "      <td>13249455</td>\n",
              "      <td>2.999926</td>\n",
              "      <td>580370.0</td>\n",
              "      <td>27.517799</td>\n",
              "      <td>15.401</td>\n",
              "      <td>8.125235</td>\n",
              "    </tr>\n",
              "    <tr>\n",
              "      <th>1</th>\n",
              "      <td>Kenya</td>\n",
              "      <td>1981</td>\n",
              "      <td>49.356</td>\n",
              "      <td>11.482</td>\n",
              "      <td>7.455</td>\n",
              "      <td>59.787</td>\n",
              "      <td>55.947</td>\n",
              "      <td>57.820171</td>\n",
              "      <td>3.799002</td>\n",
              "      <td>16267906.0</td>\n",
              "      <td>0.0</td>\n",
              "      <td>0.0</td>\n",
              "      <td>73900.0</td>\n",
              "      <td>0.454269</td>\n",
              "      <td>255800.0</td>\n",
              "      <td>44.945005</td>\n",
              "      <td>0.233589</td>\n",
              "      <td>6.67674</td>\n",
              "      <td>569140.0</td>\n",
              "      <td>13732878</td>\n",
              "      <td>3.583639</td>\n",
              "      <td>580370.0</td>\n",
              "      <td>28.583312</td>\n",
              "      <td>15.583</td>\n",
              "      <td>4.973804</td>\n",
              "    </tr>\n",
              "    <tr>\n",
              "      <th>2</th>\n",
              "      <td>Kenya</td>\n",
              "      <td>1982</td>\n",
              "      <td>49.024</td>\n",
              "      <td>11.136</td>\n",
              "      <td>7.366</td>\n",
              "      <td>60.274</td>\n",
              "      <td>56.469</td>\n",
              "      <td>58.325098</td>\n",
              "      <td>3.818846</td>\n",
              "      <td>16901167.0</td>\n",
              "      <td>0.0</td>\n",
              "      <td>0.0</td>\n",
              "      <td>80200.0</td>\n",
              "      <td>0.474523</td>\n",
              "      <td>255800.0</td>\n",
              "      <td>44.945005</td>\n",
              "      <td>0.224837</td>\n",
              "      <td>6.67674</td>\n",
              "      <td>569140.0</td>\n",
              "      <td>14250895</td>\n",
              "      <td>3.702690</td>\n",
              "      <td>580370.0</td>\n",
              "      <td>29.695975</td>\n",
              "      <td>15.681</td>\n",
              "      <td>4.445759</td>\n",
              "    </tr>\n",
              "    <tr>\n",
              "      <th>3</th>\n",
              "      <td>Kenya</td>\n",
              "      <td>1983</td>\n",
              "      <td>48.640</td>\n",
              "      <td>10.827</td>\n",
              "      <td>7.270</td>\n",
              "      <td>60.702</td>\n",
              "      <td>56.920</td>\n",
              "      <td>58.764878</td>\n",
              "      <td>3.823203</td>\n",
              "      <td>17559844.0</td>\n",
              "      <td>0.0</td>\n",
              "      <td>0.0</td>\n",
              "      <td>88100.0</td>\n",
              "      <td>0.501713</td>\n",
              "      <td>255800.0</td>\n",
              "      <td>44.945005</td>\n",
              "      <td>0.216403</td>\n",
              "      <td>6.67674</td>\n",
              "      <td>569140.0</td>\n",
              "      <td>14788901</td>\n",
              "      <td>3.705726</td>\n",
              "      <td>580370.0</td>\n",
              "      <td>30.853294</td>\n",
              "      <td>15.780</td>\n",
              "      <td>4.452542</td>\n",
              "    </tr>\n",
              "    <tr>\n",
              "      <th>4</th>\n",
              "      <td>Kenya</td>\n",
              "      <td>1984</td>\n",
              "      <td>48.190</td>\n",
              "      <td>10.565</td>\n",
              "      <td>7.165</td>\n",
              "      <td>61.053</td>\n",
              "      <td>57.282</td>\n",
              "      <td>59.121512</td>\n",
              "      <td>3.808035</td>\n",
              "      <td>18241424.0</td>\n",
              "      <td>0.0</td>\n",
              "      <td>0.0</td>\n",
              "      <td>95700.0</td>\n",
              "      <td>0.524630</td>\n",
              "      <td>255800.0</td>\n",
              "      <td>44.945005</td>\n",
              "      <td>0.208317</td>\n",
              "      <td>6.67674</td>\n",
              "      <td>569140.0</td>\n",
              "      <td>15344868</td>\n",
              "      <td>3.690412</td>\n",
              "      <td>580370.0</td>\n",
              "      <td>32.050856</td>\n",
              "      <td>15.879</td>\n",
              "      <td>4.433475</td>\n",
              "    </tr>\n",
              "  </tbody>\n",
              "</table>\n",
              "</div>"
            ],
            "text/plain": [
              "  Country  ...  Data.Urban Development.Urban Population Percent Growth\n",
              "0   Kenya  ...                                           8.125235     \n",
              "1   Kenya  ...                                           4.973804     \n",
              "2   Kenya  ...                                           4.445759     \n",
              "3   Kenya  ...                                           4.452542     \n",
              "4   Kenya  ...                                           4.433475     \n",
              "\n",
              "[5 rows x 25 columns]"
            ]
          },
          "metadata": {
            "tags": []
          },
          "execution_count": 4
        }
      ]
    },
    {
      "cell_type": "code",
      "metadata": {
        "id": "jFawcfCvVvqJ",
        "colab_type": "code",
        "outputId": "41fe8ed6-46f7-4617-91a6-49a94a966201",
        "colab": {
          "base_uri": "https://localhost:8080/",
          "height": 296
        }
      },
      "source": [
        "sns.boxplot(x = globalEA['Data.Health.Death Rate'])"
      ],
      "execution_count": 0,
      "outputs": [
        {
          "output_type": "execute_result",
          "data": {
            "text/plain": [
              "<matplotlib.axes._subplots.AxesSubplot at 0x7ff8d52a32b0>"
            ]
          },
          "metadata": {
            "tags": []
          },
          "execution_count": 6
        },
        {
          "output_type": "display_data",
          "data": {
            "image/png": "[encoded data removed]",
            "text/plain": [
              "<Figure size 432x288 with 1 Axes>"
            ]
          },
          "metadata": {
            "tags": []
          }
        }
      ]
    },
    {
      "cell_type": "code",
      "metadata": {
        "id": "eNSuoW8WV8cq",
        "colab_type": "code",
        "outputId": "b897d9ea-697d-4cd6-e03b-d85ca9df33b1",
        "colab": {
          "base_uri": "https://localhost:8080/",
          "height": 296
        }
      },
      "source": [
        "sns.boxplot(x = globalEA['Data.Health.Life Expectancy at Birth, Female'])"
      ],
      "execution_count": 0,
      "outputs": [
        {
          "output_type": "execute_result",
          "data": {
            "text/plain": [
              "<matplotlib.axes._subplots.AxesSubplot at 0x7ff8d51f6358>"
            ]
          },
          "metadata": {
            "tags": []
          },
          "execution_count": 7
        },
        {
          "output_type": "display_data",
          "data": {
            "image/png": "[encoded data removed]",
            "text/plain": [
              "<Figure size 432x288 with 1 Axes>"
            ]
          },
          "metadata": {
            "tags": []
          }
        }
      ]
    },
    {
      "cell_type": "code",
      "metadata": {
        "id": "d-ZEbiDvWAop",
        "colab_type": "code",
        "outputId": "07266db6-b339-4c6e-987b-792926aa0b93",
        "colab": {
          "base_uri": "https://localhost:8080/",
          "height": 296
        }
      },
      "source": [
        "sns.boxplot(x = globalEA['Data.Health.Life Expectancy at Birth, Male'])"
      ],
      "execution_count": 0,
      "outputs": [
        {
          "output_type": "execute_result",
          "data": {
            "text/plain": [
              "<matplotlib.axes._subplots.AxesSubplot at 0x7ff8d4d2db70>"
            ]
          },
          "metadata": {
            "tags": []
          },
          "execution_count": 8
        },
        {
          "output_type": "display_data",
          "data": {
            "image/png": "[encoded data removed]",
            "text/plain": [
              "<Figure size 432x288 with 1 Axes>"
            ]
          },
          "metadata": {
            "tags": []
          }
        }
      ]
    },
    {
      "cell_type": "code",
      "metadata": {
        "id": "wEnM5j9VWIR8",
        "colab_type": "code",
        "outputId": "3b837009-7e4a-4408-a361-5f39b740ae41",
        "colab": {
          "base_uri": "https://localhost:8080/",
          "height": 296
        }
      },
      "source": [
        "sns.boxplot(x = globalEA['Data.Health.Life Expectancy at Birth, Total'])"
      ],
      "execution_count": 0,
      "outputs": [
        {
          "output_type": "execute_result",
          "data": {
            "text/plain": [
              "<matplotlib.axes._subplots.AxesSubplot at 0x7ff8d4c7f128>"
            ]
          },
          "metadata": {
            "tags": []
          },
          "execution_count": 9
        },
        {
          "output_type": "display_data",
          "data": {
            "image/png": "[encoded data removed]",
            "text/plain": [
              "<Figure size 432x288 with 1 Axes>"
            ]
          },
          "metadata": {
            "tags": []
          }
        }
      ]
    },
    {
      "cell_type": "code",
      "metadata": {
        "id": "AB7AMKZPWUBL",
        "colab_type": "code",
        "outputId": "f67b0a78-4bd5-455d-cba4-a1a7c79f2499",
        "colab": {
          "base_uri": "https://localhost:8080/",
          "height": 296
        }
      },
      "source": [
        "sns.boxplot(x = globalEA['Data.Health.Population Growth'])"
      ],
      "execution_count": 0,
      "outputs": [
        {
          "output_type": "execute_result",
          "data": {
            "text/plain": [
              "<matplotlib.axes._subplots.AxesSubplot at 0x7ff8d4c6f470>"
            ]
          },
          "metadata": {
            "tags": []
          },
          "execution_count": 10
        },
        {
          "output_type": "display_data",
          "data": {
            "image/png": "[encoded data removed]",
            "text/plain": [
              "<Figure size 432x288 with 1 Axes>"
            ]
          },
          "metadata": {
            "tags": []
          }
        }
      ]
    },
    {
      "cell_type": "code",
      "metadata": {
        "id": "e8X-5NtgWfkY",
        "colab_type": "code",
        "outputId": "6d3eb042-9bbe-4532-e72c-d65b7e84aeed",
        "colab": {
          "base_uri": "https://localhost:8080/",
          "height": 296
        }
      },
      "source": [
        "sns.boxplot(x = globalEA['Data.Infrastructure.Mobile Cellular Subscriptions'])"
      ],
      "execution_count": 0,
      "outputs": [
        {
          "output_type": "execute_result",
          "data": {
            "text/plain": [
              "<matplotlib.axes._subplots.AxesSubplot at 0x7ff8d4c7f940>"
            ]
          },
          "metadata": {
            "tags": []
          },
          "execution_count": 11
        },
        {
          "output_type": "display_data",
          "data": {
            "image/png": "[encoded data removed]",
            "text/plain": [
              "<Figure size 432x288 with 1 Axes>"
            ]
          },
          "metadata": {
            "tags": []
          }
        }
      ]
    },
    {
      "cell_type": "code",
      "metadata": {
        "id": "JS15rUN2WjBK",
        "colab_type": "code",
        "outputId": "8ebc3c42-983d-4844-c553-475e0671dfec",
        "colab": {
          "base_uri": "https://localhost:8080/",
          "height": 296
        }
      },
      "source": [
        "sns.boxplot(x = globalEA['Data.Infrastructure.Mobile Cellular Subscriptions per 100 People'])"
      ],
      "execution_count": 0,
      "outputs": [
        {
          "output_type": "execute_result",
          "data": {
            "text/plain": [
              "<matplotlib.axes._subplots.AxesSubplot at 0x7ff8d4b1eba8>"
            ]
          },
          "metadata": {
            "tags": []
          },
          "execution_count": 13
        },
        {
          "output_type": "display_data",
          "data": {
            "image/png": "[encoded data removed]",
            "text/plain": [
              "<Figure size 432x288 with 1 Axes>"
            ]
          },
          "metadata": {
            "tags": []
          }
        }
      ]
    },
    {
      "cell_type": "code",
      "metadata": {
        "id": "aITxtACeW8oX",
        "colab_type": "code",
        "outputId": "55cd5389-cfed-4616-857f-06079c9100c3",
        "colab": {
          "base_uri": "https://localhost:8080/",
          "height": 296
        }
      },
      "source": [
        "sns.boxplot(x = globalEA['Data.Rural Development.Rural Population Growth'])"
      ],
      "execution_count": 0,
      "outputs": [
        {
          "output_type": "execute_result",
          "data": {
            "text/plain": [
              "<matplotlib.axes._subplots.AxesSubplot at 0x7ff8d49a1c18>"
            ]
          },
          "metadata": {
            "tags": []
          },
          "execution_count": 14
        },
        {
          "output_type": "display_data",
          "data": {
            "image/png": "[encoded data removed]",
            "text/plain": [
              "<Figure size 432x288 with 1 Axes>"
            ]
          },
          "metadata": {
            "tags": []
          }
        }
      ]
    },
    {
      "cell_type": "code",
      "metadata": {
        "id": "5QZWGfQeXHsK",
        "colab_type": "code",
        "outputId": "98a0f8aa-0ee1-4b99-ae83-18c6ba796295",
        "colab": {
          "base_uri": "https://localhost:8080/",
          "height": 296
        }
      },
      "source": [
        "sns.boxplot(x = globalEA['Data.Urban Development.Population Density'])"
      ],
      "execution_count": 0,
      "outputs": [
        {
          "output_type": "execute_result",
          "data": {
            "text/plain": [
              "<matplotlib.axes._subplots.AxesSubplot at 0x7ff8d4ba69e8>"
            ]
          },
          "metadata": {
            "tags": []
          },
          "execution_count": 15
        },
        {
          "output_type": "display_data",
          "data": {
            "image/png": "[encoded data removed]",
            "text/plain": [
              "<Figure size 432x288 with 1 Axes>"
            ]
          },
          "metadata": {
            "tags": []
          }
        }
      ]
    },
    {
      "cell_type": "code",
      "metadata": {
        "id": "5aLObeWLXNJi",
        "colab_type": "code",
        "outputId": "f2eb81b9-0460-4e32-8faa-51efba9d9ff0",
        "colab": {
          "base_uri": "https://localhost:8080/",
          "height": 296
        }
      },
      "source": [
        "sns.boxplot(x = globalEA['Data.Urban Development.Urban Population Percent Growth'])"
      ],
      "execution_count": 0,
      "outputs": [
        {
          "output_type": "execute_result",
          "data": {
            "text/plain": [
              "<matplotlib.axes._subplots.AxesSubplot at 0x7ff8d4b16ef0>"
            ]
          },
          "metadata": {
            "tags": []
          },
          "execution_count": 16
        },
        {
          "output_type": "display_data",
          "data": {
            "image/png": "[encoded data removed]",
            "text/plain": [
              "<Figure size 432x288 with 1 Axes>"
            ]
          },
          "metadata": {
            "tags": []
          }
        }
      ]
    }
  ]
}